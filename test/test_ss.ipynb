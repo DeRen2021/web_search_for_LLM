{
 "cells": [
  {
   "cell_type": "code",
   "execution_count": 1,
   "metadata": {},
   "outputs": [
    {
     "name": "stderr",
     "output_type": "stream",
     "text": [
      "/Users/feiwang/Desktop/projects/web-search/web_search_venv/lib/python3.13/site-packages/tqdm/auto.py:21: TqdmWarning: IProgress not found. Please update jupyter and ipywidgets. See https://ipywidgets.readthedocs.io/en/stable/user_install.html\n",
      "  from .autonotebook import tqdm as notebook_tqdm\n"
     ]
    }
   ],
   "source": [
    "from sentence_transformers import SentenceTransformer\n",
    "import numpy as np"
   ]
  },
  {
   "cell_type": "code",
   "execution_count": 2,
   "metadata": {},
   "outputs": [],
   "source": [
    "model = SentenceTransformer('all-MiniLM-L6-v2')"
   ]
  },
  {
   "cell_type": "code",
   "execution_count": 3,
   "metadata": {},
   "outputs": [],
   "source": [
    "text_chunks = [\n",
    "    \"i love apple\",\n",
    "    \"i love banana\",\n",
    "    \"i love orange\",\n",
    "    \"i love pear\",\n",
    "    \"i love pineapple\",\n",
    "    \"i love strawberry\",\n",
    "    \"i love watermelon\",\n",
    "    \"god is real\"\n",
    "]"
   ]
  },
  {
   "cell_type": "code",
   "execution_count": 4,
   "metadata": {},
   "outputs": [],
   "source": [
    "embeddings = model.encode(text_chunks)"
   ]
  },
  {
   "cell_type": "code",
   "execution_count": 5,
   "metadata": {},
   "outputs": [
    {
     "name": "stdout",
     "output_type": "stream",
     "text": [
      "[[ 0.00057935  0.00297921  0.09587035 ...  0.00094837  0.0874157\n",
      "   0.00798048]\n",
      " [-0.05606858 -0.04646677  0.01030961 ...  0.00697515  0.00854094\n",
      "  -0.03913567]\n",
      " [-0.05004244 -0.03973606 -0.00313323 ...  0.04595891  0.07549209\n",
      "  -0.04736944]\n",
      " ...\n",
      " [-0.02528395 -0.09259842  0.03348357 ...  0.03207372  0.11877785\n",
      "  -0.07619498]\n",
      " [-0.05788787  0.00389087  0.02364535 ...  0.02226898  0.11091102\n",
      "   0.00482532]\n",
      " [-0.05948653  0.00596001 -0.02478448 ...  0.01401508  0.06788933\n",
      "   0.04807261]]\n"
     ]
    }
   ],
   "source": [
    "print(embeddings)"
   ]
  }
 ],
 "metadata": {
  "kernelspec": {
   "display_name": "web_search_venv",
   "language": "python",
   "name": "python3"
  },
  "language_info": {
   "codemirror_mode": {
    "name": "ipython",
    "version": 3
   },
   "file_extension": ".py",
   "mimetype": "text/x-python",
   "name": "python",
   "nbconvert_exporter": "python",
   "pygments_lexer": "ipython3",
   "version": "3.13.1"
  }
 },
 "nbformat": 4,
 "nbformat_minor": 2
}
