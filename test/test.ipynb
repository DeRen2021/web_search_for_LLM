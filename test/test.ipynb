{
 "cells": [
  {
   "cell_type": "code",
   "execution_count": 1,
   "metadata": {},
   "outputs": [],
   "source": [
    "from dotenv import load_dotenv\n",
    "import os\n",
    "\n",
    "load_dotenv()\n",
    "\n",
    "brave_ai_api_key = os.getenv(\"BRAVE_AI_API_KEY\")\n",
    "brave_search_api_key = os.getenv(\"BRAVE_SEARCH_API_KEY\")"
   ]
  },
  {
   "cell_type": "code",
   "execution_count": null,
   "metadata": {},
   "outputs": [],
   "source": [
    "import aiohttp\n",
    "import asyncio\n",
    "import json"
   ]
  },
  {
   "cell_type": "markdown",
   "metadata": {},
   "source": [
    "# web search api test"
   ]
  },
  {
   "cell_type": "code",
   "execution_count": 46,
   "metadata": {},
   "outputs": [],
   "source": [
    "BRAVE_SEARCH_ENDPOINT = \"https://api.search.brave.com/res/v1/web/search\"\n",
    "\n",
    "\n",
    "\n",
    "async def news_search(query):\n",
    "    async with aiohttp.ClientSession() as session:\n",
    "        url = BRAVE_SEARCH_ENDPOINT\n",
    "        headers = {\n",
    "            \"Accept\": \"application/json\",\n",
    "            \"Accept-Encoding\": \"gzip\",\n",
    "            \"X-Subscription-Token\": brave_search_api_key\n",
    "        }\n",
    "        async with session.get(url, headers=headers, params={\"q\": query}) as response:\n",
    "            search_result = await response.json()\n",
    "            return search_result\n"
   ]
  },
  {
   "cell_type": "code",
   "execution_count": 23,
   "metadata": {},
   "outputs": [],
   "source": [
    "\n",
    "result = await news_search(\"autogen\")"
   ]
  },
  {
   "cell_type": "code",
   "execution_count": 24,
   "metadata": {},
   "outputs": [
    {
     "data": {
      "text/plain": [
       "{'query': {'original': 'autogen',\n",
       "  'show_strict_warning': False,\n",
       "  'is_navigational': False,\n",
       "  'is_news_breaking': False,\n",
       "  'spellcheck_off': True,\n",
       "  'country': 'us',\n",
       "  'bad_results': False,\n",
       "  'should_fallback': False,\n",
       "  'postal_code': '',\n",
       "  'city': '',\n",
       "  'header_country': '',\n",
       "  'more_results_available': True,\n",
       "  'state': ''},\n",
       " 'mixed': {'type': 'mixed',\n",
       "  'main': [{'type': 'web', 'index': 0, 'all': False},\n",
       "   {'type': 'web', 'index': 1, 'all': False},\n",
       "   {'type': 'videos', 'all': True},\n",
       "   {'type': 'web', 'index': 2, 'all': False},\n",
       "   {'type': 'web', 'index': 3, 'all': False},\n",
       "   {'type': 'web', 'index': 4, 'all': False},\n",
       "   {'type': 'web', 'index': 5, 'all': False},\n",
       "   {'type': 'web', 'index': 6, 'all': False},\n",
       "   {'type': 'web', 'index': 7, 'all': False},\n",
       "   {'type': 'web', 'index': 8, 'all': False},\n",
       "   {'type': 'web', 'index': 9, 'all': False},\n",
       "   {'type': 'web', 'index': 10, 'all': False},\n",
       "   {'type': 'web', 'index': 11, 'all': False},\n",
       "   {'type': 'web', 'index': 12, 'all': False},\n",
       "   {'type': 'web', 'index': 13, 'all': False},\n",
       "   {'type': 'web', 'index': 14, 'all': False},\n",
       "   {'type': 'web', 'index': 15, 'all': False},\n",
       "   {'type': 'web', 'index': 16, 'all': False},\n",
       "   {'type': 'web', 'index': 17, 'all': False},\n",
       "   {'type': 'web', 'index': 18, 'all': False},\n",
       "   {'type': 'web', 'index': 19, 'all': False}],\n",
       "  'top': [],\n",
       "  'side': []},\n",
       " 'type': 'search',\n",
       " 'videos': {'type': 'videos',\n",
       "  'results': [{'type': 'video_result',\n",
       "    'url': 'https://www.youtube.com/watch?v=muSam6Yy8lM',\n",
       "    'title': 'Create MultiAgent with Autogen | AGENTIC AI',\n",
       "    'description': 'Enjoy the videos and music you love, upload original content, and share it all with friends, family, and the world on YouTube.',\n",
       "    'video': {},\n",
       "    'meta_url': {'scheme': 'https',\n",
       "     'netloc': 'youtube.com',\n",
       "     'hostname': 'www.youtube.com',\n",
       "     'favicon': 'https://imgs.search.brave.com/Wg4wjE5SHAargkzePU3eSLmWgVz84BEZk1SjSglJK_U/rs:fit:32:32:1:0/g:ce/aHR0cDovL2Zhdmlj/b25zLnNlYXJjaC5i/cmF2ZS5jb20vaWNv/bnMvOTkyZTZiMWU3/YzU3Nzc5YjExYzUy/N2VhZTIxOWNlYjM5/ZGVjN2MyZDY4Nzdh/ZDYzMTYxNmI5N2Rk/Y2Q3N2FkNy93d3cu/eW91dHViZS5jb20v',\n",
       "     'path': '› watch'},\n",
       "    'thumbnail': {'src': 'https://imgs.search.brave.com/-flbs9m5niwbs-xIo4JcyiwDbBn17gmUXIDOoPIpwQw/rs:fit:200:200:1:0/g:ce/aHR0cHM6Ly9pLnl0/aW1nLmNvbS92aS9t/dVNhbTZZeThsTS9o/cWRlZmF1bHQuanBn',\n",
       "     'original': 'https://i.ytimg.com/vi/muSam6Yy8lM/hqdefault.jpg'}},\n",
       "   {'type': 'video_result',\n",
       "    'url': 'https://www.youtube.com/watch?v=CCXQqzFN3og',\n",
       "    'title': \"Let's Talk About Autogen\",\n",
       "    'description': 'Enjoy the videos and music you love, upload original content, and share it all with friends, family, and the world on YouTube.',\n",
       "    'video': {},\n",
       "    'meta_url': {'scheme': 'https',\n",
       "     'netloc': 'youtube.com',\n",
       "     'hostname': 'www.youtube.com',\n",
       "     'favicon': 'https://imgs.search.brave.com/Wg4wjE5SHAargkzePU3eSLmWgVz84BEZk1SjSglJK_U/rs:fit:32:32:1:0/g:ce/aHR0cDovL2Zhdmlj/b25zLnNlYXJjaC5i/cmF2ZS5jb20vaWNv/bnMvOTkyZTZiMWU3/YzU3Nzc5YjExYzUy/N2VhZTIxOWNlYjM5/ZGVjN2MyZDY4Nzdh/ZDYzMTYxNmI5N2Rk/Y2Q3N2FkNy93d3cu/eW91dHViZS5jb20v',\n",
       "     'path': '› watch'},\n",
       "    'thumbnail': {'src': 'https://imgs.search.brave.com/smyCsN3WMmi8ossSiX0Glqo9VGFjbmeOAkt71f8io1g/rs:fit:200:200:1:0/g:ce/aHR0cHM6Ly9pLnl0/aW1nLmNvbS92aS9D/Q1hRcXpGTjNvZy9o/cWRlZmF1bHQuanBn',\n",
       "     'original': 'https://i.ytimg.com/vi/CCXQqzFN3og/hqdefault.jpg'}},\n",
       "   {'type': 'video_result',\n",
       "    'url': 'https://www.youtube.com/watch?v=xVGQrltjaRs',\n",
       "    'title': '🟥 Autogen Research Agent: End-to-End Project for Paper Analysis ...',\n",
       "    'description': 'Learn how to create a complete AI-driven research agent that retrieves, summarizes, and analyzes research papers from ArXiv and Google Scholar. This hands-on...',\n",
       "    'age': '4 days ago',\n",
       "    'page_age': '2025-02-17T17:13:00',\n",
       "    'video': {},\n",
       "    'meta_url': {'scheme': 'https',\n",
       "     'netloc': 'youtube.com',\n",
       "     'hostname': 'www.youtube.com',\n",
       "     'favicon': 'https://imgs.search.brave.com/Wg4wjE5SHAargkzePU3eSLmWgVz84BEZk1SjSglJK_U/rs:fit:32:32:1:0/g:ce/aHR0cDovL2Zhdmlj/b25zLnNlYXJjaC5i/cmF2ZS5jb20vaWNv/bnMvOTkyZTZiMWU3/YzU3Nzc5YjExYzUy/N2VhZTIxOWNlYjM5/ZGVjN2MyZDY4Nzdh/ZDYzMTYxNmI5N2Rk/Y2Q3N2FkNy93d3cu/eW91dHViZS5jb20v',\n",
       "     'path': '› watch'},\n",
       "    'thumbnail': {'src': 'https://imgs.search.brave.com/jV4o3V5FISZefiFI6AJ3uE7L-Hl6QLH8TRMB5coWWgQ/rs:fit:200:200:1:0/g:ce/aHR0cHM6Ly9pLnl0/aW1nLmNvbS92aS94/VkdRcmx0amFScy9t/YXhyZXNkZWZhdWx0/LmpwZw',\n",
       "     'original': 'https://i.ytimg.com/vi/xVGQrltjaRs/maxresdefault.jpg'}},\n",
       "   {'type': 'video_result',\n",
       "    'url': 'https://www.youtube.com/watch?v=lJeD-X-QHfQ',\n",
       "    'title': 'Build AI Agents EASILY with No-Code, here’s how',\n",
       "    'description': 'Enjoy the videos and music you love, upload original content, and share it all with friends, family, and the world on YouTube.',\n",
       "    'video': {},\n",
       "    'meta_url': {'scheme': 'https',\n",
       "     'netloc': 'youtube.com',\n",
       "     'hostname': 'www.youtube.com',\n",
       "     'favicon': 'https://imgs.search.brave.com/Wg4wjE5SHAargkzePU3eSLmWgVz84BEZk1SjSglJK_U/rs:fit:32:32:1:0/g:ce/aHR0cDovL2Zhdmlj/b25zLnNlYXJjaC5i/cmF2ZS5jb20vaWNv/bnMvOTkyZTZiMWU3/YzU3Nzc5YjExYzUy/N2VhZTIxOWNlYjM5/ZGVjN2MyZDY4Nzdh/ZDYzMTYxNmI5N2Rk/Y2Q3N2FkNy93d3cu/eW91dHViZS5jb20v',\n",
       "     'path': '› watch'},\n",
       "    'thumbnail': {'src': 'https://imgs.search.brave.com/5hMnGAoRjStwXlCXZ4HJ-zw9YeNnXudVc6fU77vHkFo/rs:fit:200:200:1:0/g:ce/aHR0cHM6Ly9pLnl0/aW1nLmNvbS92aS9s/SmVELVgtUUhmUS9o/cWRlZmF1bHQuanBn',\n",
       "     'original': 'https://i.ytimg.com/vi/lJeD-X-QHfQ/hqdefault.jpg'}},\n",
       "   {'type': 'video_result',\n",
       "    'url': 'https://www.youtube.com/watch?v=VukcfLpuDJY',\n",
       "    'title': 'Agentic AI with AutoGen - YouTube',\n",
       "    'description': 'A framework for building AI agents and applicationsAutoGen is a framework for creating multi-agent AI applications that can act autonomously or work alongsid...',\n",
       "    'age': '3 days ago',\n",
       "    'page_age': '2025-02-18T22:45:52',\n",
       "    'video': {},\n",
       "    'meta_url': {'scheme': 'https',\n",
       "     'netloc': 'youtube.com',\n",
       "     'hostname': 'www.youtube.com',\n",
       "     'favicon': 'https://imgs.search.brave.com/Wg4wjE5SHAargkzePU3eSLmWgVz84BEZk1SjSglJK_U/rs:fit:32:32:1:0/g:ce/aHR0cDovL2Zhdmlj/b25zLnNlYXJjaC5i/cmF2ZS5jb20vaWNv/bnMvOTkyZTZiMWU3/YzU3Nzc5YjExYzUy/N2VhZTIxOWNlYjM5/ZGVjN2MyZDY4Nzdh/ZDYzMTYxNmI5N2Rk/Y2Q3N2FkNy93d3cu/eW91dHViZS5jb20v',\n",
       "     'path': '› watch'},\n",
       "    'thumbnail': {'src': 'https://imgs.search.brave.com/cDQJvB_YGEevTt8nxz8PUiHjn2ugedqIbDFOKW9DJtw/rs:fit:200:200:1:0/g:ce/aHR0cHM6Ly9pLnl0/aW1nLmNvbS92aS9W/dWtjZkxwdURKWS9t/YXhyZXNkZWZhdWx0/LmpwZw',\n",
       "     'original': 'https://i.ytimg.com/vi/VukcfLpuDJY/maxresdefault.jpg'}},\n",
       "   {'type': 'video_result',\n",
       "    'url': 'https://www.youtube.com/watch?v=3r9hj8N-pp4',\n",
       "    'title': 'Introduction to Autonomous Agents using Microsoft AutoGen',\n",
       "    'description': 'Enjoy the videos and music you love, upload original content, and share it all with friends, family, and the world on YouTube.',\n",
       "    'video': {},\n",
       "    'meta_url': {'scheme': 'https',\n",
       "     'netloc': 'youtube.com',\n",
       "     'hostname': 'www.youtube.com',\n",
       "     'favicon': 'https://imgs.search.brave.com/Wg4wjE5SHAargkzePU3eSLmWgVz84BEZk1SjSglJK_U/rs:fit:32:32:1:0/g:ce/aHR0cDovL2Zhdmlj/b25zLnNlYXJjaC5i/cmF2ZS5jb20vaWNv/bnMvOTkyZTZiMWU3/YzU3Nzc5YjExYzUy/N2VhZTIxOWNlYjM5/ZGVjN2MyZDY4Nzdh/ZDYzMTYxNmI5N2Rk/Y2Q3N2FkNy93d3cu/eW91dHViZS5jb20v',\n",
       "     'path': '› watch'},\n",
       "    'thumbnail': {'src': 'https://imgs.search.brave.com/kjMYL0xtraPgK-vrY4_lsP-V4DsqhS62x2mCn_7cKZ8/rs:fit:200:200:1:0/g:ce/aHR0cHM6Ly9pLnl0/aW1nLmNvbS92aS8z/cjloajhOLXBwNC9o/cWRlZmF1bHQuanBn',\n",
       "     'original': 'https://i.ytimg.com/vi/3r9hj8N-pp4/hqdefault.jpg'}}],\n",
       "  'mutated_by_goggles': False},\n",
       " 'web': {'type': 'search',\n",
       "  'results': [{'title': 'GitHub - microsoft/autogen: A programming framework for ...',\n",
       "    'url': 'https://github.com/microsoft/autogen/',\n",
       "    'is_source_local': False,\n",
       "    'is_source_both': False,\n",
       "    'description': '<strong>AutoGen</strong> is a framework for creating multi-agent AI applications that can act autonomously or work alongside humans.',\n",
       "    'page_age': '2025-01-09T19:25:06',\n",
       "    'profile': {'name': 'GitHub',\n",
       "     'url': 'https://github.com/microsoft/autogen/',\n",
       "     'long_name': 'github.com',\n",
       "     'img': 'https://imgs.search.brave.com/xxsA4YxzaR0cl-DBsH9-lpv2gsif3KMYgM87p26bs_o/rs:fit:32:32:1:0/g:ce/aHR0cDovL2Zhdmlj/b25zLnNlYXJjaC5i/cmF2ZS5jb20vaWNv/bnMvYWQyNWM1NjA5/ZjZmZjNlYzI2MDNk/N2VkNmJhYjE2MzZl/MDY5ZTMxMDUzZmY1/NmU3NWIzNWVmMjk0/NTBjMjJjZi9naXRo/dWIuY29tLw'},\n",
       "    'language': 'en',\n",
       "    'family_friendly': True,\n",
       "    'type': 'search_result',\n",
       "    'subtype': 'software',\n",
       "    'is_live': False,\n",
       "    'meta_url': {'scheme': 'https',\n",
       "     'netloc': 'github.com',\n",
       "     'hostname': 'github.com',\n",
       "     'favicon': 'https://imgs.search.brave.com/xxsA4YxzaR0cl-DBsH9-lpv2gsif3KMYgM87p26bs_o/rs:fit:32:32:1:0/g:ce/aHR0cDovL2Zhdmlj/b25zLnNlYXJjaC5i/cmF2ZS5jb20vaWNv/bnMvYWQyNWM1NjA5/ZjZmZjNlYzI2MDNk/N2VkNmJhYjE2MzZl/MDY5ZTMxMDUzZmY1/NmU3NWIzNWVmMjk0/NTBjMjJjZi9naXRo/dWIuY29tLw',\n",
       "     'path': '› microsoft  › autogen'},\n",
       "    'thumbnail': {'src': 'https://imgs.search.brave.com/dEA5ArtxxqccK4Yfu_ALME12gCdbMDgKBEEHl5YZEzk/rs:fit:200:200:1:0/g:ce/aHR0cHM6Ly9vcGVu/Z3JhcGguZ2l0aHVi/YXNzZXRzLmNvbS9i/ZWU5Yzc2ZjUzY2Mx/NGZmZDkxZWE3ZjQ5/Y2JmZjlkODA1Y2Jk/YjU0ZjY2NWFjYmY5/ZGU3ZGQ0MmQ4OThk/NjJiL21pY3Jvc29m/dC9hdXRvZ2Vu',\n",
       "     'original': 'https://opengraph.githubassets.com/bee9c76f53cc14ffd91ea7f49cbff9d805cbdb54f665acbf9de7dd42d898d62b/microsoft/autogen',\n",
       "     'logo': False},\n",
       "    'age': 'January 9, 2025'},\n",
       "   {'title': 'AutoGen | AutoGen 0.2',\n",
       "    'url': 'https://microsoft.github.io/autogen/0.2/',\n",
       "    'is_source_local': False,\n",
       "    'is_source_both': False,\n",
       "    'description': 'Enabling Next-Gen LLM Applications via Multi-Agent Conversation Framework',\n",
       "    'profile': {'name': 'Microsoft',\n",
       "     'url': 'https://microsoft.github.io/autogen/0.2/',\n",
       "     'long_name': 'microsoft.github.io',\n",
       "     'img': 'https://imgs.search.brave.com/Q5_eJM3JYp9pANUrA4UEXzKFpFpXO05JTdKNHox3OeU/rs:fit:32:32:1:0/g:ce/aHR0cDovL2Zhdmlj/b25zLnNlYXJjaC5i/cmF2ZS5jb20vaWNv/bnMvNjkzMDM2ODMw/NzYzMjM0NzQwNGRm/YjdhNmZhMjIzMDhm/MGYxMDQyYjAwNDkz/OGNhZTU2NzJmNThk/NjAyZmM0Mi9taWNy/b3NvZnQuZ2l0aHVi/LmlvLw'},\n",
       "    'language': 'en',\n",
       "    'family_friendly': True,\n",
       "    'type': 'search_result',\n",
       "    'subtype': 'generic',\n",
       "    'is_live': False,\n",
       "    'meta_url': {'scheme': 'https',\n",
       "     'netloc': 'microsoft.github.io',\n",
       "     'hostname': 'microsoft.github.io',\n",
       "     'favicon': 'https://imgs.search.brave.com/Q5_eJM3JYp9pANUrA4UEXzKFpFpXO05JTdKNHox3OeU/rs:fit:32:32:1:0/g:ce/aHR0cDovL2Zhdmlj/b25zLnNlYXJjaC5i/cmF2ZS5jb20vaWNv/bnMvNjkzMDM2ODMw/NzYzMjM0NzQwNGRm/YjdhNmZhMjIzMDhm/MGYxMDQyYjAwNDkz/OGNhZTU2NzJmNThk/NjAyZmM0Mi9taWNy/b3NvZnQuZ2l0aHVi/LmlvLw',\n",
       "     'path': '› autogen  › 0.2'}},\n",
       "   {'title': 'AutoGen — AutoGen',\n",
       "    'url': 'https://microsoft.github.io/autogen/dev//index.html',\n",
       "    'is_source_local': False,\n",
       "    'is_source_both': False,\n",
       "    'description': 'Top-level documentation for <strong>AutoGen</strong>, a framework for developing applications using AI agents',\n",
       "    'profile': {'name': 'Microsoft',\n",
       "     'url': 'https://microsoft.github.io/autogen/dev//index.html',\n",
       "     'long_name': 'microsoft.github.io',\n",
       "     'img': 'https://imgs.search.brave.com/Q5_eJM3JYp9pANUrA4UEXzKFpFpXO05JTdKNHox3OeU/rs:fit:32:32:1:0/g:ce/aHR0cDovL2Zhdmlj/b25zLnNlYXJjaC5i/cmF2ZS5jb20vaWNv/bnMvNjkzMDM2ODMw/NzYzMjM0NzQwNGRm/YjdhNmZhMjIzMDhm/MGYxMDQyYjAwNDkz/OGNhZTU2NzJmNThk/NjAyZmM0Mi9taWNy/b3NvZnQuZ2l0aHVi/LmlvLw'},\n",
       "    'language': 'en',\n",
       "    'family_friendly': True,\n",
       "    'type': 'search_result',\n",
       "    'subtype': 'generic',\n",
       "    'is_live': False,\n",
       "    'meta_url': {'scheme': 'https',\n",
       "     'netloc': 'microsoft.github.io',\n",
       "     'hostname': 'microsoft.github.io',\n",
       "     'favicon': 'https://imgs.search.brave.com/Q5_eJM3JYp9pANUrA4UEXzKFpFpXO05JTdKNHox3OeU/rs:fit:32:32:1:0/g:ce/aHR0cDovL2Zhdmlj/b25zLnNlYXJjaC5i/cmF2ZS5jb20vaWNv/bnMvNjkzMDM2ODMw/NzYzMjM0NzQwNGRm/YjdhNmZhMjIzMDhm/MGYxMDQyYjAwNDkz/OGNhZTU2NzJmNThk/NjAyZmM0Mi9taWNy/b3NvZnQuZ2l0aHVi/LmlvLw',\n",
       "     'path': '› autogen  › dev  ›   › index.html'}},\n",
       "   {'title': 'AutoGen - Microsoft Research',\n",
       "    'url': 'https://www.microsoft.com/en-us/research/project/autogen/',\n",
       "    'is_source_local': False,\n",
       "    'is_source_both': False,\n",
       "    'description': '<strong>AutoGen</strong> allows developers to build LLM applications via multiple agents that can converse with each other to accomplish tasks.',\n",
       "    'page_age': '2023-10-06T22:16:20',\n",
       "    'profile': {'name': 'Microsoft',\n",
       "     'url': 'https://www.microsoft.com/en-us/research/project/autogen/',\n",
       "     'long_name': 'microsoft.com',\n",
       "     'img': 'https://imgs.search.brave.com/gZrD5eqR2RtdATDgWM_L81IIsAOU6J7j4L8LlnZ91YI/rs:fit:32:32:1:0/g:ce/aHR0cDovL2Zhdmlj/b25zLnNlYXJjaC5i/cmF2ZS5jb20vaWNv/bnMvOTM5NmUzZTBm/Y2I4YTEzZDI1Mzll/NmM2MmU4NzlhMGVh/NjdjMmQwZjQ0OTMx/MGRhYTVkNjk1MDNi/M2VkYThkZC93d3cu/bWljcm9zb2Z0LmNv/bS8'},\n",
       "    'language': 'en',\n",
       "    'family_friendly': True,\n",
       "    'type': 'search_result',\n",
       "    'subtype': 'generic',\n",
       "    'is_live': False,\n",
       "    'meta_url': {'scheme': 'https',\n",
       "     'netloc': 'microsoft.com',\n",
       "     'hostname': 'www.microsoft.com',\n",
       "     'favicon': 'https://imgs.search.brave.com/gZrD5eqR2RtdATDgWM_L81IIsAOU6J7j4L8LlnZ91YI/rs:fit:32:32:1:0/g:ce/aHR0cDovL2Zhdmlj/b25zLnNlYXJjaC5i/cmF2ZS5jb20vaWNv/bnMvOTM5NmUzZTBm/Y2I4YTEzZDI1Mzll/NmM2MmU4NzlhMGVh/NjdjMmQwZjQ0OTMx/MGRhYTVkNjk1MDNi/M2VkYThkZC93d3cu/bWljcm9zb2Z0LmNv/bS8',\n",
       "     'path': '  › home  › projects  › autogen'},\n",
       "    'thumbnail': {'src': 'https://imgs.search.brave.com/mp2HYAVnK8_wQtEKzvr10u_ZJ0gSEInis_pp6fu87uo/rs:fit:200:200:1:0/g:ce/aHR0cHM6Ly93d3cu/bWljcm9zb2Z0LmNv/bS9lbi11cy9yZXNl/YXJjaC91cGxvYWRz/L3Byb2QvMjAyMy8x/MC9BdXRvR2VuX2hl/YWRlcl8xOTIweDcy/MC5qcGc',\n",
       "     'original': 'https://www.microsoft.com/en-us/research/uploads/prod/2023/10/AutoGen_header_1920x720.jpg',\n",
       "     'logo': False},\n",
       "    'age': 'October 6, 2023'},\n",
       "   {'title': 'Welcome to AutoGen – DNA and RNA Extraction Devices and Service',\n",
       "    'url': 'https://autogen.com/',\n",
       "    'is_source_local': False,\n",
       "    'is_source_both': False,\n",
       "    'description': '<strong>AutoGen</strong> specializes in DNA and RNA extraction devices and service, offering a variety of instrumentation and consumable kits that meet your DNA and RNA isolation needs.',\n",
       "    'page_age': '2024-01-16T21:26:38',\n",
       "    'profile': {'name': 'AutoGen',\n",
       "     'url': 'https://autogen.com/',\n",
       "     'long_name': 'autogen.com',\n",
       "     'img': 'https://imgs.search.brave.com/CI4l7CPBDMrxAAvIdPFUcGWYebks-Jhdcuh-MJ24ilE/rs:fit:32:32:1:0/g:ce/aHR0cDovL2Zhdmlj/b25zLnNlYXJjaC5i/cmF2ZS5jb20vaWNv/bnMvYTdlYTk5NzYz/MDgzODVlYzM2NzMy/M2M2OTE0NTcwYmFk/NjM5NzdhMzEwN2Mx/NzFkZGZkMjYzMTBk/YWQxOTk2Yy9hdXRv/Z2VuLmNvbS8'},\n",
       "    'language': 'en',\n",
       "    'family_friendly': True,\n",
       "    'type': 'search_result',\n",
       "    'subtype': 'article',\n",
       "    'is_live': False,\n",
       "    'meta_url': {'scheme': 'https',\n",
       "     'netloc': 'autogen.com',\n",
       "     'hostname': 'autogen.com',\n",
       "     'favicon': 'https://imgs.search.brave.com/CI4l7CPBDMrxAAvIdPFUcGWYebks-Jhdcuh-MJ24ilE/rs:fit:32:32:1:0/g:ce/aHR0cDovL2Zhdmlj/b25zLnNlYXJjaC5i/cmF2ZS5jb20vaWNv/bnMvYTdlYTk5NzYz/MDgzODVlYzM2NzMy/M2M2OTE0NTcwYmFk/NjM5NzdhMzEwN2Mx/NzFkZGZkMjYzMTBk/YWQxOTk2Yy9hdXRv/Z2VuLmNvbS8',\n",
       "     'path': ''},\n",
       "    'age': 'January 16, 2024'},\n",
       "   {'title': 'AutoGen (@pyautogen) · X',\n",
       "    'url': 'https://twitter.com/pyautogen',\n",
       "    'is_source_local': False,\n",
       "    'is_source_both': False,\n",
       "    'description': 'The latest tweets from <strong>AutoGen</strong> (@pyautogen)',\n",
       "    'profile': {'name': 'X',\n",
       "     'url': 'https://twitter.com/pyautogen',\n",
       "     'long_name': 'twitter.com',\n",
       "     'img': 'https://imgs.search.brave.com/wWeP6Pa-JGi7cDBqMPkc4Ckai-nUQl4uFSKrw0evyx4/rs:fit:32:32:1:0/g:ce/aHR0cDovL2Zhdmlj/b25zLnNlYXJjaC5i/cmF2ZS5jb20vaWNv/bnMvN2MxOTUxNzhj/OTY1ZTQ3N2I0MjJk/MTY5NGM0MTRlYWVi/MjU1YWE2NDUwYmQ2/YTA2MDFhMDlkZDEx/NTAzZGNiNi90d2l0/dGVyLmNvbS8'},\n",
       "    'language': 'en',\n",
       "    'family_friendly': True,\n",
       "    'type': 'search_result',\n",
       "    'subtype': 'generic',\n",
       "    'is_live': False,\n",
       "    'meta_url': {'scheme': 'https',\n",
       "     'netloc': 'twitter.com',\n",
       "     'hostname': 'twitter.com',\n",
       "     'favicon': 'https://imgs.search.brave.com/wWeP6Pa-JGi7cDBqMPkc4Ckai-nUQl4uFSKrw0evyx4/rs:fit:32:32:1:0/g:ce/aHR0cDovL2Zhdmlj/b25zLnNlYXJjaC5i/cmF2ZS5jb20vaWNv/bnMvN2MxOTUxNzhj/OTY1ZTQ3N2I0MjJk/MTY5NGM0MTRlYWVi/MjU1YWE2NDUwYmQ2/YTA2MDFhMDlkZDEx/NTAzZGNiNi90d2l0/dGVyLmNvbS8',\n",
       "     'path': '› pyautogen'}},\n",
       "   {'title': 'Getting Started | AutoGen 0.2',\n",
       "    'url': 'https://microsoft.github.io/autogen/0.2/docs/Getting-Started/',\n",
       "    'is_source_local': False,\n",
       "    'is_source_both': False,\n",
       "    'description': '<strong>AutoGen</strong> is an open-source programming framework for building AI agents and facilitating',\n",
       "    'profile': {'name': 'Microsoft',\n",
       "     'url': 'https://microsoft.github.io/autogen/0.2/docs/Getting-Started/',\n",
       "     'long_name': 'microsoft.github.io',\n",
       "     'img': 'https://imgs.search.brave.com/Q5_eJM3JYp9pANUrA4UEXzKFpFpXO05JTdKNHox3OeU/rs:fit:32:32:1:0/g:ce/aHR0cDovL2Zhdmlj/b25zLnNlYXJjaC5i/cmF2ZS5jb20vaWNv/bnMvNjkzMDM2ODMw/NzYzMjM0NzQwNGRm/YjdhNmZhMjIzMDhm/MGYxMDQyYjAwNDkz/OGNhZTU2NzJmNThk/NjAyZmM0Mi9taWNy/b3NvZnQuZ2l0aHVi/LmlvLw'},\n",
       "    'language': 'en',\n",
       "    'family_friendly': True,\n",
       "    'type': 'search_result',\n",
       "    'subtype': 'generic',\n",
       "    'is_live': False,\n",
       "    'meta_url': {'scheme': 'https',\n",
       "     'netloc': 'microsoft.github.io',\n",
       "     'hostname': 'microsoft.github.io',\n",
       "     'favicon': 'https://imgs.search.brave.com/Q5_eJM3JYp9pANUrA4UEXzKFpFpXO05JTdKNHox3OeU/rs:fit:32:32:1:0/g:ce/aHR0cDovL2Zhdmlj/b25zLnNlYXJjaC5i/cmF2ZS5jb20vaWNv/bnMvNjkzMDM2ODMw/NzYzMjM0NzQwNGRm/YjdhNmZhMjIzMDhm/MGYxMDQyYjAwNDkz/OGNhZTU2NzJmNThk/NjAyZmM0Mi9taWNy/b3NvZnQuZ2l0aHVi/LmlvLw',\n",
       "     'path': '  › getting started'}},\n",
       "   {'title': 'AutoGen v0.4: Reimagining the foundation of agentic AI for scale, extensibility, and robustness - Microsoft Research',\n",
       "    'url': 'https://www.microsoft.com/en-us/research/blog/autogen-v0-4-reimagining-the-foundation-of-agentic-ai-for-scale-extensibility-and-robustness/',\n",
       "    'is_source_local': False,\n",
       "    'is_source_both': False,\n",
       "    'description': 'Announcing <strong>AutoGen</strong> 0.4, fully reimagined library for building advanced agentic AI systems, developed to improve code quality and robustness. Its asynchronous, event-driven architecture is designed to support dynamic, scalable workflows. Learn more:',\n",
       "    'page_age': '2025-01-28T16:57:53',\n",
       "    'profile': {'name': 'Microsoft',\n",
       "     'url': 'https://www.microsoft.com/en-us/research/blog/autogen-v0-4-reimagining-the-foundation-of-agentic-ai-for-scale-extensibility-and-robustness/',\n",
       "     'long_name': 'microsoft.com',\n",
       "     'img': 'https://imgs.search.brave.com/gZrD5eqR2RtdATDgWM_L81IIsAOU6J7j4L8LlnZ91YI/rs:fit:32:32:1:0/g:ce/aHR0cDovL2Zhdmlj/b25zLnNlYXJjaC5i/cmF2ZS5jb20vaWNv/bnMvOTM5NmUzZTBm/Y2I4YTEzZDI1Mzll/NmM2MmU4NzlhMGVh/NjdjMmQwZjQ0OTMx/MGRhYTVkNjk1MDNi/M2VkYThkZC93d3cu/bWljcm9zb2Z0LmNv/bS8'},\n",
       "    'language': 'en',\n",
       "    'family_friendly': True,\n",
       "    'type': 'search_result',\n",
       "    'subtype': 'generic',\n",
       "    'is_live': False,\n",
       "    'meta_url': {'scheme': 'https',\n",
       "     'netloc': 'microsoft.com',\n",
       "     'hostname': 'www.microsoft.com',\n",
       "     'favicon': 'https://imgs.search.brave.com/gZrD5eqR2RtdATDgWM_L81IIsAOU6J7j4L8LlnZ91YI/rs:fit:32:32:1:0/g:ce/aHR0cDovL2Zhdmlj/b25zLnNlYXJjaC5i/cmF2ZS5jb20vaWNv/bnMvOTM5NmUzZTBm/Y2I4YTEzZDI1Mzll/NmM2MmU4NzlhMGVh/NjdjMmQwZjQ0OTMx/MGRhYTVkNjk1MDNi/M2VkYThkZC93d3cu/bWljcm9zb2Z0LmNv/bS8',\n",
       "     'path': '  › home  › autogen v0.4: reimagining the foundation of agentic ai for scale, extensibility, and robustness'},\n",
       "    'thumbnail': {'src': 'https://imgs.search.brave.com/HIQDYQsV98DllB010IVNuMNrtlLJ3e7wf0sp0TiaNoc/rs:fit:200:200:1:0/g:ce/aHR0cHM6Ly93d3cu/bWljcm9zb2Z0LmNv/bS9lbi11cy9yZXNl/YXJjaC91cGxvYWRz/L3Byb2QvMjAyNS8w/MS9BdXRvR2VuLTAu/NC1CbG9nSGVyb0Zl/YXR1cmUtMTQwMHg3/ODgtMS5qcGc',\n",
       "     'original': 'https://www.microsoft.com/en-us/research/uploads/prod/2025/01/AutoGen-0.4-BlogHeroFeature-1400x788-1.jpg',\n",
       "     'logo': False},\n",
       "    'age': '3 weeks ago'},\n",
       "   {'title': 'AutogenAI | AI-Driven Proposal Writing Solutions for Businesses',\n",
       "    'url': 'https://autogenai.com/us/',\n",
       "    'is_source_local': False,\n",
       "    'is_source_both': False,\n",
       "    'description': 'AutogenAI was developed by world-class AI engineers, award-winning proposal and grant writers, and industry defining linguistic experts. We’ve been in your shoes and we understand exactly what it takes to succeed.',\n",
       "    'page_age': '2024-12-05T00:00:00',\n",
       "    'profile': {'name': 'AutogenAI',\n",
       "     'url': 'https://autogenai.com/us/',\n",
       "     'long_name': 'autogenai.com',\n",
       "     'img': 'https://imgs.search.brave.com/5SuBFdjMNb2UbdUAQm8m_YDYa6uugJK3UypFU3rDqP0/rs:fit:32:32:1:0/g:ce/aHR0cDovL2Zhdmlj/b25zLnNlYXJjaC5i/cmF2ZS5jb20vaWNv/bnMvNWJlZDgzZjMw/ZDdlYjUwODBmZTNk/NWEwZjZhYmI0YTcx/NjdjNTJmMjM3ZmVh/NjU5YWMzOTRhOGNl/M2VlZTg0Zi9hdXRv/Z2VuYWkuY29tLw'},\n",
       "    'language': 'en',\n",
       "    'family_friendly': True,\n",
       "    'type': 'search_result',\n",
       "    'subtype': 'generic',\n",
       "    'is_live': False,\n",
       "    'meta_url': {'scheme': 'https',\n",
       "     'netloc': 'autogenai.com',\n",
       "     'hostname': 'autogenai.com',\n",
       "     'favicon': 'https://imgs.search.brave.com/5SuBFdjMNb2UbdUAQm8m_YDYa6uugJK3UypFU3rDqP0/rs:fit:32:32:1:0/g:ce/aHR0cDovL2Zhdmlj/b25zLnNlYXJjaC5i/cmF2ZS5jb20vaWNv/bnMvNWJlZDgzZjMw/ZDdlYjUwODBmZTNk/NWEwZjZhYmI0YTcx/NjdjNTJmMjM3ZmVh/NjU5YWMzOTRhOGNl/M2VlZTg0Zi9hdXRv/Z2VuYWkuY29tLw',\n",
       "     'path': '  › home'},\n",
       "    'thumbnail': {'src': 'https://imgs.search.brave.com/FCLK38pCjyj_zhtjJ0mEnBCuHLhuZvbeVXiA0E6Au7Q/rs:fit:200:200:1:0/g:ce/aHR0cHM6Ly9hdXRv/Z2VuYWkuY29tL3Vz/L3dwLWNvbnRlbnQv/dXBsb2Fkcy8yMDI0/LzEwL29nLWltYWdl/LW1pbi5qcGc',\n",
       "     'original': 'https://autogenai.com/us/wp-content/uploads/2024/10/og-image-min.jpg',\n",
       "     'logo': False},\n",
       "    'age': 'December 5, 2024'},\n",
       "   {'title': 'Index of /gnu/autogen',\n",
       "    'url': 'https://ftp.gnu.org/gnu/autogen/',\n",
       "    'is_source_local': False,\n",
       "    'is_source_both': False,\n",
       "    'description': 'Index of /gnu/<strong>autogen</strong> · Apache/2.4.52 (Trisquel_GNU/Linux) Server at ftp.gnu.org Port 443',\n",
       "    'profile': {'name': 'GNU',\n",
       "     'url': 'https://ftp.gnu.org/gnu/autogen/',\n",
       "     'long_name': 'ftp.gnu.org',\n",
       "     'img': 'https://imgs.search.brave.com/cPVw2bD6CMxUKVoeTPuvUZs2QYdst6Q0DB8j-9b-jEI/rs:fit:32:32:1:0/g:ce/aHR0cDovL2Zhdmlj/b25zLnNlYXJjaC5i/cmF2ZS5jb20vaWNv/bnMvMTZiNGUyYTNh/ZmE2OWUyZjI4MzM0/N2MyZjFiOGQ2ZjJl/N2YxNjQxYjk5YmRk/ODQwZmE5NjAyMGU2/MDQ3OTZhYy9mdHAu/Z251Lm9yZy8'},\n",
       "    'language': 'en',\n",
       "    'family_friendly': True,\n",
       "    'type': 'search_result',\n",
       "    'subtype': 'generic',\n",
       "    'is_live': False,\n",
       "    'meta_url': {'scheme': 'https',\n",
       "     'netloc': 'ftp.gnu.org',\n",
       "     'hostname': 'ftp.gnu.org',\n",
       "     'favicon': 'https://imgs.search.brave.com/cPVw2bD6CMxUKVoeTPuvUZs2QYdst6Q0DB8j-9b-jEI/rs:fit:32:32:1:0/g:ce/aHR0cDovL2Zhdmlj/b25zLnNlYXJjaC5i/cmF2ZS5jb20vaWNv/bnMvMTZiNGUyYTNh/ZmE2OWUyZjI4MzM0/N2MyZjFiOGQ2ZjJl/N2YxNjQxYjk5YmRk/ODQwZmE5NjAyMGU2/MDQ3OTZhYy9mdHAu/Z251Lm9yZy8',\n",
       "     'path': '› gnu  › autogen'}},\n",
       "   {'title': '[2308.08155] AutoGen: Enabling Next-Gen LLM Applications via Multi-Agent Conversation',\n",
       "    'url': 'https://arxiv.org/abs/2308.08155',\n",
       "    'is_source_local': False,\n",
       "    'is_source_both': False,\n",
       "    'description': '<strong>AutoGen</strong> is an open-source framework that allows developers to build LLM applications via multiple agents that can converse with each other to accomplish tasks. <strong>AutoGen</strong> agents are customizable, conversable, and can operate in various modes that employ combinations of LLMs, human inputs, and tools.',\n",
       "    'page_age': '2023-08-16T00:00:00',\n",
       "    'profile': {'name': 'ArXiv',\n",
       "     'url': 'https://arxiv.org/abs/2308.08155',\n",
       "     'long_name': 'arxiv.org',\n",
       "     'img': 'https://imgs.search.brave.com/l36MWBCdhb-teoPlxGGMWEenj3njVas--CoLjN2ciHU/rs:fit:32:32:1:0/g:ce/aHR0cDovL2Zhdmlj/b25zLnNlYXJjaC5i/cmF2ZS5jb20vaWNv/bnMvNjcxZDU5ZmZl/ZmIwNzY4NTUyZDg1/ZTVjNGNhMzE2NjUz/MjljMzQwZTA0MThm/NTdjN2Q0N2I3NjFm/ZjIwZmU5MC9hcnhp/di5vcmcv'},\n",
       "    'language': 'en',\n",
       "    'family_friendly': True,\n",
       "    'type': 'search_result',\n",
       "    'subtype': 'generic',\n",
       "    'is_live': False,\n",
       "    'meta_url': {'scheme': 'https',\n",
       "     'netloc': 'arxiv.org',\n",
       "     'hostname': 'arxiv.org',\n",
       "     'favicon': 'https://imgs.search.brave.com/l36MWBCdhb-teoPlxGGMWEenj3njVas--CoLjN2ciHU/rs:fit:32:32:1:0/g:ce/aHR0cDovL2Zhdmlj/b25zLnNlYXJjaC5i/cmF2ZS5jb20vaWNv/bnMvNjcxZDU5ZmZl/ZmIwNzY4NTUyZDg1/ZTVjNGNhMzE2NjUz/MjljMzQwZTA0MThm/NTdjN2Q0N2I3NjFm/ZjIwZmU5MC9hcnhp/di5vcmcv',\n",
       "     'path': '› abs  › 2308.08155'},\n",
       "    'thumbnail': {'src': 'https://imgs.search.brave.com/iKdq2fkHaKJYPDvdK7fP7YT23ZvBXz_aBGM5hD9_jho/rs:fit:200:200:1:0/g:ce/aHR0cHM6Ly9hcnhp/di5vcmcvc3RhdGlj/L2Jyb3dzZS8wLjMu/NC9pbWFnZXMvYXJ4/aXYtbG9nby1mYi5w/bmc',\n",
       "     'original': 'https://arxiv.org/static/browse/0.3.4/images/arxiv-logo-fb.png',\n",
       "     'logo': True},\n",
       "    'age': 'August 16, 2023'},\n",
       "   {'title': 'AutoGen Studio — AutoGen',\n",
       "    'url': 'https://microsoft.github.io/autogen/stable/user-guide/autogenstudio-user-guide/index.html',\n",
       "    'is_source_local': False,\n",
       "    'is_source_both': False,\n",
       "    'description': 'User Guide for <strong>AutoGen</strong> Studio - A low code tool for building and debugging multi-agent systems',\n",
       "    'profile': {'name': 'Microsoft',\n",
       "     'url': 'https://microsoft.github.io/autogen/stable/user-guide/autogenstudio-user-guide/index.html',\n",
       "     'long_name': 'microsoft.github.io',\n",
       "     'img': 'https://imgs.search.brave.com/Q5_eJM3JYp9pANUrA4UEXzKFpFpXO05JTdKNHox3OeU/rs:fit:32:32:1:0/g:ce/aHR0cDovL2Zhdmlj/b25zLnNlYXJjaC5i/cmF2ZS5jb20vaWNv/bnMvNjkzMDM2ODMw/NzYzMjM0NzQwNGRm/YjdhNmZhMjIzMDhm/MGYxMDQyYjAwNDkz/OGNhZTU2NzJmNThk/NjAyZmM0Mi9taWNy/b3NvZnQuZ2l0aHVi/LmlvLw'},\n",
       "    'language': 'en',\n",
       "    'family_friendly': True,\n",
       "    'type': 'search_result',\n",
       "    'subtype': 'generic',\n",
       "    'is_live': False,\n",
       "    'meta_url': {'scheme': 'https',\n",
       "     'netloc': 'microsoft.github.io',\n",
       "     'hostname': 'microsoft.github.io',\n",
       "     'favicon': 'https://imgs.search.brave.com/Q5_eJM3JYp9pANUrA4UEXzKFpFpXO05JTdKNHox3OeU/rs:fit:32:32:1:0/g:ce/aHR0cDovL2Zhdmlj/b25zLnNlYXJjaC5i/cmF2ZS5jb20vaWNv/bnMvNjkzMDM2ODMw/NzYzMjM0NzQwNGRm/YjdhNmZhMjIzMDhm/MGYxMDQyYjAwNDkz/OGNhZTU2NzJmNThk/NjAyZmM0Mi9taWNy/b3NvZnQuZ2l0aHVi/LmlvLw',\n",
       "     'path': '› autogen  › stable  › user-guide  › autogenstudio-user-guide  › index.html'}},\n",
       "   {'title': 'AI Agentic Design Patterns with AutoGen - DeepLearning.AI',\n",
       "    'url': 'https://www.deeplearning.ai/short-courses/ai-agentic-design-patterns-with-autogen/',\n",
       "    'is_source_local': False,\n",
       "    'is_source_both': False,\n",
       "    'description': 'Use the <strong>AutoGen</strong> framework to build multi-agent systems with diverse roles and capabilities for implementing complex AI applications.',\n",
       "    'page_age': '2024-05-21T13:22:47',\n",
       "    'profile': {'name': 'Deeplearning',\n",
       "     'url': 'https://www.deeplearning.ai/short-courses/ai-agentic-design-patterns-with-autogen/',\n",
       "     'long_name': 'deeplearning.ai',\n",
       "     'img': 'https://imgs.search.brave.com/WZlgbelS89-IsSIn-YdbM0xWBxDiYH7Kp-x0zEQxozs/rs:fit:32:32:1:0/g:ce/aHR0cDovL2Zhdmlj/b25zLnNlYXJjaC5i/cmF2ZS5jb20vaWNv/bnMvOGIzOWNlNWUx/ZDc0NmFlOGI3OTgz/ZDNhZTExNjkwMzRk/ZDExMGE2YzdjNGNl/NDg3N2UxZjM5N2Ey/YWZhYmRjMC93d3cu/ZGVlcGxlYXJuaW5n/LmFpLw'},\n",
       "    'language': 'en',\n",
       "    'family_friendly': True,\n",
       "    'type': 'search_result',\n",
       "    'subtype': 'generic',\n",
       "    'is_live': False,\n",
       "    'meta_url': {'scheme': 'https',\n",
       "     'netloc': 'deeplearning.ai',\n",
       "     'hostname': 'www.deeplearning.ai',\n",
       "     'favicon': 'https://imgs.search.brave.com/WZlgbelS89-IsSIn-YdbM0xWBxDiYH7Kp-x0zEQxozs/rs:fit:32:32:1:0/g:ce/aHR0cDovL2Zhdmlj/b25zLnNlYXJjaC5i/cmF2ZS5jb20vaWNv/bnMvOGIzOWNlNWUx/ZDc0NmFlOGI3OTgz/ZDNhZTExNjkwMzRk/ZDExMGE2YzdjNGNl/NDg3N2UxZjM5N2Ey/YWZhYmRjMC93d3cu/ZGVlcGxlYXJuaW5n/LmFpLw',\n",
       "     'path': '  › home  › courses  › ai agentic design patterns with autogen'},\n",
       "    'thumbnail': {'src': 'https://imgs.search.brave.com/-b66h0yOXdn20MjklCWg1BjYLtPaDwtCsgYz1d5H2_U/rs:fit:200:200:1:0/g:ce/aHR0cHM6Ly93d3cu/ZGVlcGxlYXJuaW5n/LmFpL3B1YmxpY2F0/aW9uLWNvdmVyLnBu/Zw',\n",
       "     'original': 'https://www.deeplearning.ai/publication-cover.png',\n",
       "     'logo': False},\n",
       "    'age': 'May 21, 2024'},\n",
       "   {'title': 'Autogen and AG2: A Journey from One to Two | by RAJIB DEB | Dec, 2024 | Medium',\n",
       "    'url': 'https://medium.com/@rajib76.gcp/autogen-and-ag2-a-journey-from-one-to-two-af151ec12fb7',\n",
       "    'is_source_local': False,\n",
       "    'is_source_both': False,\n",
       "    'description': 'The rise of agentic architectures has opened up incredible possibilities for building powerful and dynamic AI solutions. Among the many frameworks that have gained traction, <strong>Autogen</strong> initially caught…',\n",
       "    'page_age': '2024-12-24T20:37:30',\n",
       "    'profile': {'name': 'Medium',\n",
       "     'url': 'https://medium.com/@rajib76.gcp/autogen-and-ag2-a-journey-from-one-to-two-af151ec12fb7',\n",
       "     'long_name': 'medium.com',\n",
       "     'img': 'https://imgs.search.brave.com/4R4hFITz_F_be0roUiWbTZKhsywr3fnLTMTkFL5HFow/rs:fit:32:32:1:0/g:ce/aHR0cDovL2Zhdmlj/b25zLnNlYXJjaC5i/cmF2ZS5jb20vaWNv/bnMvOTZhYmQ1N2Q4/NDg4ZDcyODIyMDZi/MzFmOWNhNjE3Y2E4/Y2YzMThjNjljNDIx/ZjllZmNhYTcwODhl/YTcwNDEzYy9tZWRp/dW0uY29tLw'},\n",
       "    'language': 'en',\n",
       "    'family_friendly': True,\n",
       "    'type': 'search_result',\n",
       "    'subtype': 'article',\n",
       "    'is_live': False,\n",
       "    'meta_url': {'scheme': 'https',\n",
       "     'netloc': 'medium.com',\n",
       "     'hostname': 'medium.com',\n",
       "     'favicon': 'https://imgs.search.brave.com/4R4hFITz_F_be0roUiWbTZKhsywr3fnLTMTkFL5HFow/rs:fit:32:32:1:0/g:ce/aHR0cDovL2Zhdmlj/b25zLnNlYXJjaC5i/cmF2ZS5jb20vaWNv/bnMvOTZhYmQ1N2Q4/NDg4ZDcyODIyMDZi/MzFmOWNhNjE3Y2E4/Y2YzMThjNjljNDIx/ZjllZmNhYTcwODhl/YTcwNDEzYy9tZWRp/dW0uY29tLw',\n",
       "     'path': '› @rajib76.gcp  › autogen-and-ag2-a-journey-from-one-to-two-af151ec12fb7'},\n",
       "    'thumbnail': {'src': 'https://imgs.search.brave.com/WhMG_KRQUr0qhsUFvAbxj0Wl8PshOOrs_bwzDMsJB6U/rs:fit:200:200:1:0/g:ce/aHR0cHM6Ly9taXJv/Lm1lZGl1bS5jb20v/djIvcmVzaXplOmZp/dDoxMjAwLzEqa1JG/Yms4VGJhVXBKVWJ3/Ykg0MExzZy5wbmc',\n",
       "     'original': 'https://miro.medium.com/v2/resize:fit:1200/1*kRFbk8TbaUpJUbwbH40Lsg.png',\n",
       "     'logo': False},\n",
       "    'age': 'December 24, 2024'},\n",
       "   {'title': 'GitHub - ag2ai/ag2: AG2 (formerly AutoGen): The Open ...',\n",
       "    'url': 'https://github.com/ag2ai/ag2',\n",
       "    'is_source_local': False,\n",
       "    'is_source_both': False,\n",
       "    'description': 'AG2 (formerly <strong>AutoGen</strong>) is an open-source AgentOS for building AI agents and facilitating cooperation among multiple agents to solve tasks.',\n",
       "    'page_age': '2024-11-16T19:05:05',\n",
       "    'profile': {'name': 'GitHub',\n",
       "     'url': 'https://github.com/ag2ai/ag2',\n",
       "     'long_name': 'github.com',\n",
       "     'img': 'https://imgs.search.brave.com/xxsA4YxzaR0cl-DBsH9-lpv2gsif3KMYgM87p26bs_o/rs:fit:32:32:1:0/g:ce/aHR0cDovL2Zhdmlj/b25zLnNlYXJjaC5i/cmF2ZS5jb20vaWNv/bnMvYWQyNWM1NjA5/ZjZmZjNlYzI2MDNk/N2VkNmJhYjE2MzZl/MDY5ZTMxMDUzZmY1/NmU3NWIzNWVmMjk0/NTBjMjJjZi9naXRo/dWIuY29tLw'},\n",
       "    'language': 'en',\n",
       "    'family_friendly': True,\n",
       "    'type': 'search_result',\n",
       "    'subtype': 'software',\n",
       "    'is_live': False,\n",
       "    'meta_url': {'scheme': 'https',\n",
       "     'netloc': 'github.com',\n",
       "     'hostname': 'github.com',\n",
       "     'favicon': 'https://imgs.search.brave.com/xxsA4YxzaR0cl-DBsH9-lpv2gsif3KMYgM87p26bs_o/rs:fit:32:32:1:0/g:ce/aHR0cDovL2Zhdmlj/b25zLnNlYXJjaC5i/cmF2ZS5jb20vaWNv/bnMvYWQyNWM1NjA5/ZjZmZjNlYzI2MDNk/N2VkNmJhYjE2MzZl/MDY5ZTMxMDUzZmY1/NmU3NWIzNWVmMjk0/NTBjMjJjZi9naXRo/dWIuY29tLw',\n",
       "     'path': '› ag2ai  › ag2'},\n",
       "    'thumbnail': {'src': 'https://imgs.search.brave.com/sBi4llWiDCYMWRMeVlqpxQoh_nyl-OLk42AUolW9C8U/rs:fit:200:200:1:0/g:ce/aHR0cHM6Ly9vcGVu/Z3JhcGguZ2l0aHVi/YXNzZXRzLmNvbS8w/ZjVjNTI0YTRmYTRi/OTBjM2M1NmE1NWI3/YmMxYWMzZjk2YjIx/ZGEyZmJmNTA2ZTUy/NWFjOTgwMzc4NjAx/YThiL2FnMmFpL2Fn/Mg',\n",
       "     'original': 'https://opengraph.githubassets.com/0f5c524a4fa4b90c3c56a55b7bc1ac3f96b21da2fbf506e525ac980378601a8b/ag2ai/ag2',\n",
       "     'logo': False},\n",
       "    'age': 'November 16, 2024'},\n",
       "   {'title': 'AutoGen: Enabling next-generation large language model applications - Microsoft Research',\n",
       "    'url': 'https://www.microsoft.com/en-us/research/blog/autogen-enabling-next-generation-large-language-model-applications/?msockid=20a6536b6e12686e2b68461c6f6769d8',\n",
       "    'is_source_local': False,\n",
       "    'is_source_both': False,\n",
       "    'description': 'Microsoft researchers are introducing <strong>AutoGen</strong>, a framework for simplifying the orchestration, optimization, and automation of workflows for large language model (LLM) applications—potentially transforming and extending what LLMs can do. Learn more.',\n",
       "    'page_age': '2023-09-25T16:00:00',\n",
       "    'profile': {'name': 'Microsoft',\n",
       "     'url': 'https://www.microsoft.com/en-us/research/blog/autogen-enabling-next-generation-large-language-model-applications/?msockid=20a6536b6e12686e2b68461c6f6769d8',\n",
       "     'long_name': 'microsoft.com',\n",
       "     'img': 'https://imgs.search.brave.com/gZrD5eqR2RtdATDgWM_L81IIsAOU6J7j4L8LlnZ91YI/rs:fit:32:32:1:0/g:ce/aHR0cDovL2Zhdmlj/b25zLnNlYXJjaC5i/cmF2ZS5jb20vaWNv/bnMvOTM5NmUzZTBm/Y2I4YTEzZDI1Mzll/NmM2MmU4NzlhMGVh/NjdjMmQwZjQ0OTMx/MGRhYTVkNjk1MDNi/M2VkYThkZC93d3cu/bWljcm9zb2Z0LmNv/bS8'},\n",
       "    'language': 'en',\n",
       "    'family_friendly': True,\n",
       "    'type': 'search_result',\n",
       "    'subtype': 'generic',\n",
       "    'is_live': False,\n",
       "    'meta_url': {'scheme': 'https',\n",
       "     'netloc': 'microsoft.com',\n",
       "     'hostname': 'www.microsoft.com',\n",
       "     'favicon': 'https://imgs.search.brave.com/gZrD5eqR2RtdATDgWM_L81IIsAOU6J7j4L8LlnZ91YI/rs:fit:32:32:1:0/g:ce/aHR0cDovL2Zhdmlj/b25zLnNlYXJjaC5i/cmF2ZS5jb20vaWNv/bnMvOTM5NmUzZTBm/Y2I4YTEzZDI1Mzll/NmM2MmU4NzlhMGVh/NjdjMmQwZjQ0OTMx/MGRhYTVkNjk1MDNi/M2VkYThkZC93d3cu/bWljcm9zb2Z0LmNv/bS8',\n",
       "     'path': '  › home  › autogen: enabling next-generation large language model applications'},\n",
       "    'thumbnail': {'src': 'https://imgs.search.brave.com/bEbTtDgbi4i3l3QUXhtDfusRMEXPvggn7nqUiQsQpjA/rs:fit:200:200:1:0/g:ce/aHR0cHM6Ly93d3cu/bWljcm9zb2Z0LmNv/bS9lbi11cy9yZXNl/YXJjaC91cGxvYWRz/L3Byb2QvMjAyMy8w/OS9BdXRvR2VuLUJs/b2dIZXJvRmVhdHVy/ZS0xNDAweDc4OC0x/LmpwZw',\n",
       "     'original': 'https://www.microsoft.com/en-us/research/uploads/prod/2023/09/AutoGen-BlogHeroFeature-1400x788-1.jpg',\n",
       "     'logo': False},\n",
       "    'age': 'September 25, 2023'},\n",
       "   {'title': 'AutoGen: The Automated Text and Program Generation Tool',\n",
       "    'url': 'https://autogen.sourceforge.net/',\n",
       "    'is_source_local': False,\n",
       "    'is_source_both': False,\n",
       "    'description': '<strong>AutoGen</strong>, AutoOpts, columns, getdefs, AutoFSM, AutoXDR and these web pages copyright (c) 1999-2012 Bruce Korb, all rights reserved. snprintfv and its documentation copyright (c) 1999, 2000 Gary V. Vaughan, all rights reserved. fixincludes copyright (c) 1999-2012 the Free Software Foundation, ...',\n",
       "    'page_age': '2015-08-21T00:00:00',\n",
       "    'profile': {'name': 'SourceForge',\n",
       "     'url': 'https://autogen.sourceforge.net/',\n",
       "     'long_name': 'autogen.sourceforge.net',\n",
       "     'img': 'https://imgs.search.brave.com/srhfnd_nRokv29aLdH6RuoTmILUNqyQe-T8SWnoaWv0/rs:fit:32:32:1:0/g:ce/aHR0cDovL2Zhdmlj/b25zLnNlYXJjaC5i/cmF2ZS5jb20vaWNv/bnMvMzQzODlhZGEw/NmRkOTMxY2IxYjE5/ZTA5YTkzYzllZWM2/YzEyYzk0NmYyNTkz/Mjc1MDEzNzNhMGI1/YThiZWEzYS9hdXRv/Z2VuLnNvdXJjZWZv/cmdlLm5ldC8'},\n",
       "    'language': 'en',\n",
       "    'family_friendly': True,\n",
       "    'type': 'search_result',\n",
       "    'subtype': 'generic',\n",
       "    'is_live': False,\n",
       "    'meta_url': {'scheme': 'https',\n",
       "     'netloc': 'autogen.sourceforge.net',\n",
       "     'hostname': 'autogen.sourceforge.net',\n",
       "     'favicon': 'https://imgs.search.brave.com/srhfnd_nRokv29aLdH6RuoTmILUNqyQe-T8SWnoaWv0/rs:fit:32:32:1:0/g:ce/aHR0cDovL2Zhdmlj/b25zLnNlYXJjaC5i/cmF2ZS5jb20vaWNv/bnMvMzQzODlhZGEw/NmRkOTMxY2IxYjE5/ZTA5YTkzYzllZWM2/YzEyYzk0NmYyNTkz/Mjc1MDEzNzNhMGI1/YThiZWEzYS9hdXRv/Z2VuLnNvdXJjZWZv/cmdlLm5ldC8',\n",
       "     'path': ''},\n",
       "    'age': 'August 21, 2015'},\n",
       "   {'title': \"r/AutoGenAI on Reddit: What's going on with AutoGen and AG2?\",\n",
       "    'url': 'https://www.reddit.com/r/AutoGenAI/comments/1gvusph/whats_going_on_with_autogen_and_ag2/',\n",
       "    'is_source_local': False,\n",
       "    'is_source_both': False,\n",
       "    'description': '27 votes, 18 comments. Lots of confusion in the <strong>AutoGen</strong> community right now, so I tried to grab as much information as I could to sum it up for you…',\n",
       "    'page_age': '2024-11-21T00:00:00',\n",
       "    'profile': {'name': 'Reddit',\n",
       "     'url': 'https://www.reddit.com/r/AutoGenAI/comments/1gvusph/whats_going_on_with_autogen_and_ag2/',\n",
       "     'long_name': 'reddit.com',\n",
       "     'img': 'https://imgs.search.brave.com/U-eHNCapRHVNWWCVPPMTIvOofZULh0_A_FQKe8xTE4I/rs:fit:32:32:1:0/g:ce/aHR0cDovL2Zhdmlj/b25zLnNlYXJjaC5i/cmF2ZS5jb20vaWNv/bnMvN2ZiNTU0M2Nj/MTFhZjRiYWViZDlk/MjJiMjBjMzFjMDRk/Y2IzYWI0MGI0MjVk/OGY5NzQzOGQ5NzQ5/NWJhMWI0NC93d3cu/cmVkZGl0LmNvbS8'},\n",
       "    'language': 'en',\n",
       "    'family_friendly': True,\n",
       "    'type': 'search_result',\n",
       "    'subtype': 'qa',\n",
       "    'is_live': False,\n",
       "    'meta_url': {'scheme': 'https',\n",
       "     'netloc': 'reddit.com',\n",
       "     'hostname': 'www.reddit.com',\n",
       "     'favicon': 'https://imgs.search.brave.com/U-eHNCapRHVNWWCVPPMTIvOofZULh0_A_FQKe8xTE4I/rs:fit:32:32:1:0/g:ce/aHR0cDovL2Zhdmlj/b25zLnNlYXJjaC5i/cmF2ZS5jb20vaWNv/bnMvN2ZiNTU0M2Nj/MTFhZjRiYWViZDlk/MjJiMjBjMzFjMDRk/Y2IzYWI0MGI0MjVk/OGY5NzQzOGQ5NzQ5/NWJhMWI0NC93d3cu/cmVkZGl0LmNvbS8',\n",
       "     'path': \"  › r/autogenai  › what's going on with autogen and ag2?\"},\n",
       "    'thumbnail': {'src': 'https://imgs.search.brave.com/BXf2oSrIxHDgg-JIoiiYWRVEX4mokrnqNOCn6MzCK1w/rs:fit:200:200:1:0/g:ce/aHR0cHM6Ly9zaGFy/ZS5yZWRkLml0L3By/ZXZpZXcvcG9zdC8x/Z3Z1c3Bo',\n",
       "     'original': 'https://share.redd.it/preview/post/1gvusph',\n",
       "     'logo': False},\n",
       "    'age': 'November 21, 2024'},\n",
       "   {'title': 'What is AutoGen? - Arize AI',\n",
       "    'url': 'https://arize.com/blog/what-is-autogen/',\n",
       "    'is_source_local': False,\n",
       "    'is_source_both': False,\n",
       "    'description': 'Learn how <strong>AutoGen</strong> simplifies creating multi-agent applications, enabling agents with unique roles to work together seamlessly.',\n",
       "    'page_age': '2024-12-03T23:52:55',\n",
       "    'profile': {'name': 'Arize AI',\n",
       "     'url': 'https://arize.com/blog/what-is-autogen/',\n",
       "     'long_name': 'arize.com',\n",
       "     'img': 'https://imgs.search.brave.com/qFha21OwbxpJmHDFtYJ2srUuuR9bUAxCqvhA14_1zLo/rs:fit:32:32:1:0/g:ce/aHR0cDovL2Zhdmlj/b25zLnNlYXJjaC5i/cmF2ZS5jb20vaWNv/bnMvNjNiMGMxOTQ0/NTRkYjFlMTc5ODQw/MGEwOTE1YmE1NTU0/MWJkZjFlNTExMDhi/ZWVkMGFmNTE5MDQ0/ZjgyNzRhMy9hcml6/ZS5jb20v'},\n",
       "    'language': 'en',\n",
       "    'family_friendly': True,\n",
       "    'type': 'search_result',\n",
       "    'subtype': 'video',\n",
       "    'is_live': False,\n",
       "    'meta_url': {'scheme': 'https',\n",
       "     'netloc': 'arize.com',\n",
       "     'hostname': 'arize.com',\n",
       "     'favicon': 'https://imgs.search.brave.com/qFha21OwbxpJmHDFtYJ2srUuuR9bUAxCqvhA14_1zLo/rs:fit:32:32:1:0/g:ce/aHR0cDovL2Zhdmlj/b25zLnNlYXJjaC5i/cmF2ZS5jb20vaWNv/bnMvNjNiMGMxOTQ0/NTRkYjFlMTc5ODQw/MGEwOTE1YmE1NTU0/MWJkZjFlNTExMDhi/ZWVkMGFmNTE5MDQ0/ZjgyNzRhMy9hcml6/ZS5jb20v',\n",
       "     'path': '  › arize ai  › what is autogen?'},\n",
       "    'thumbnail': {'src': 'https://imgs.search.brave.com/--4IacV4XrNRAyqzT0bM2IBJSgNLGTeESQ6w5z1pBbA/rs:fit:200:200:1:0/g:ce/aHR0cHM6Ly9hcml6/ZS5jb20vd3AtY29u/dGVudC91cGxvYWRz/LzIwMjQvMTEvV2hh/dC1pcy1BdXRvZ2Vu/Xy1kaWFncmFtLmpw/Zw',\n",
       "     'original': 'https://arize.com/wp-content/uploads/2024/11/What-is-Autogen_-diagram.jpg',\n",
       "     'logo': False},\n",
       "    'age': 'December 3, 2024'},\n",
       "   {'title': 'Introduction to AutoGen | AutoGen 0.2',\n",
       "    'url': 'https://microsoft.github.io/autogen/0.2/docs/tutorial/introduction/',\n",
       "    'is_source_local': False,\n",
       "    'is_source_both': False,\n",
       "    'description': 'Further, <strong>AutoGen</strong> is extensible and composable: you can extend a simple agent with customizable components and create workflows that can combine these agents and power a more sophisticated agent, resulting in implementations that are modular and easy to maintain.',\n",
       "    'profile': {'name': 'Microsoft',\n",
       "     'url': 'https://microsoft.github.io/autogen/0.2/docs/tutorial/introduction/',\n",
       "     'long_name': 'microsoft.github.io',\n",
       "     'img': 'https://imgs.search.brave.com/Q5_eJM3JYp9pANUrA4UEXzKFpFpXO05JTdKNHox3OeU/rs:fit:32:32:1:0/g:ce/aHR0cDovL2Zhdmlj/b25zLnNlYXJjaC5i/cmF2ZS5jb20vaWNv/bnMvNjkzMDM2ODMw/NzYzMjM0NzQwNGRm/YjdhNmZhMjIzMDhm/MGYxMDQyYjAwNDkz/OGNhZTU2NzJmNThk/NjAyZmM0Mi9taWNy/b3NvZnQuZ2l0aHVi/LmlvLw'},\n",
       "    'language': 'en',\n",
       "    'family_friendly': True,\n",
       "    'type': 'search_result',\n",
       "    'subtype': 'generic',\n",
       "    'is_live': False,\n",
       "    'meta_url': {'scheme': 'https',\n",
       "     'netloc': 'microsoft.github.io',\n",
       "     'hostname': 'microsoft.github.io',\n",
       "     'favicon': 'https://imgs.search.brave.com/Q5_eJM3JYp9pANUrA4UEXzKFpFpXO05JTdKNHox3OeU/rs:fit:32:32:1:0/g:ce/aHR0cDovL2Zhdmlj/b25zLnNlYXJjaC5i/cmF2ZS5jb20vaWNv/bnMvNjkzMDM2ODMw/NzYzMjM0NzQwNGRm/YjdhNmZhMjIzMDhm/MGYxMDQyYjAwNDkz/OGNhZTU2NzJmNThk/NjAyZmM0Mi9taWNy/b3NvZnQuZ2l0aHVi/LmlvLw',\n",
       "     'path': '  › tutorial  › introduction'}}],\n",
       "  'family_friendly': True}}"
      ]
     },
     "execution_count": 24,
     "metadata": {},
     "output_type": "execute_result"
    }
   ],
   "source": [
    "result"
   ]
  },
  {
   "cell_type": "code",
   "execution_count": 26,
   "metadata": {},
   "outputs": [
    {
     "data": {
      "text/plain": [
       "dict_keys(['query', 'mixed', 'type', 'videos', 'web'])"
      ]
     },
     "execution_count": 26,
     "metadata": {},
     "output_type": "execute_result"
    }
   ],
   "source": [
    "result.keys()"
   ]
  },
  {
   "cell_type": "code",
   "execution_count": 35,
   "metadata": {},
   "outputs": [
    {
     "data": {
      "text/plain": [
       "{'type': 'mixed',\n",
       " 'main': [{'type': 'web', 'index': 0, 'all': False},\n",
       "  {'type': 'web', 'index': 1, 'all': False},\n",
       "  {'type': 'videos', 'all': True},\n",
       "  {'type': 'web', 'index': 2, 'all': False},\n",
       "  {'type': 'web', 'index': 3, 'all': False},\n",
       "  {'type': 'web', 'index': 4, 'all': False},\n",
       "  {'type': 'web', 'index': 5, 'all': False},\n",
       "  {'type': 'web', 'index': 6, 'all': False},\n",
       "  {'type': 'web', 'index': 7, 'all': False},\n",
       "  {'type': 'web', 'index': 8, 'all': False},\n",
       "  {'type': 'web', 'index': 9, 'all': False},\n",
       "  {'type': 'web', 'index': 10, 'all': False},\n",
       "  {'type': 'web', 'index': 11, 'all': False},\n",
       "  {'type': 'web', 'index': 12, 'all': False},\n",
       "  {'type': 'web', 'index': 13, 'all': False},\n",
       "  {'type': 'web', 'index': 14, 'all': False},\n",
       "  {'type': 'web', 'index': 15, 'all': False},\n",
       "  {'type': 'web', 'index': 16, 'all': False},\n",
       "  {'type': 'web', 'index': 17, 'all': False},\n",
       "  {'type': 'web', 'index': 18, 'all': False},\n",
       "  {'type': 'web', 'index': 19, 'all': False}],\n",
       " 'top': [],\n",
       " 'side': []}"
      ]
     },
     "execution_count": 35,
     "metadata": {},
     "output_type": "execute_result"
    }
   ],
   "source": [
    "result['mixed']"
   ]
  },
  {
   "cell_type": "code",
   "execution_count": 63,
   "metadata": {},
   "outputs": [
    {
     "data": {
      "text/plain": [
       "{'type': 'video_result',\n",
       " 'url': 'https://www.youtube.com/watch?v=muSam6Yy8lM',\n",
       " 'title': 'Create MultiAgent with Autogen | AGENTIC AI',\n",
       " 'description': 'Enjoy the videos and music you love, upload original content, and share it all with friends, family, and the world on YouTube.',\n",
       " 'video': {},\n",
       " 'meta_url': {'scheme': 'https',\n",
       "  'netloc': 'youtube.com',\n",
       "  'hostname': 'www.youtube.com',\n",
       "  'favicon': 'https://imgs.search.brave.com/Wg4wjE5SHAargkzePU3eSLmWgVz84BEZk1SjSglJK_U/rs:fit:32:32:1:0/g:ce/aHR0cDovL2Zhdmlj/b25zLnNlYXJjaC5i/cmF2ZS5jb20vaWNv/bnMvOTkyZTZiMWU3/YzU3Nzc5YjExYzUy/N2VhZTIxOWNlYjM5/ZGVjN2MyZDY4Nzdh/ZDYzMTYxNmI5N2Rk/Y2Q3N2FkNy93d3cu/eW91dHViZS5jb20v',\n",
       "  'path': '› watch'},\n",
       " 'thumbnail': {'src': 'https://imgs.search.brave.com/-flbs9m5niwbs-xIo4JcyiwDbBn17gmUXIDOoPIpwQw/rs:fit:200:200:1:0/g:ce/aHR0cHM6Ly9pLnl0/aW1nLmNvbS92aS9t/dVNhbTZZeThsTS9o/cWRlZmF1bHQuanBn',\n",
       "  'original': 'https://i.ytimg.com/vi/muSam6Yy8lM/hqdefault.jpg'}}"
      ]
     },
     "execution_count": 63,
     "metadata": {},
     "output_type": "execute_result"
    }
   ],
   "source": [
    "result['type']\n",
    "result['videos']['results'][0]"
   ]
  },
  {
   "cell_type": "code",
   "execution_count": 71,
   "metadata": {},
   "outputs": [
    {
     "data": {
      "text/plain": [
       "{'title': 'GitHub - microsoft/autogen: A programming framework for ...',\n",
       " 'url': 'https://github.com/microsoft/autogen/',\n",
       " 'is_source_local': False,\n",
       " 'is_source_both': False,\n",
       " 'description': '<strong>AutoGen</strong> is a framework for creating multi-agent AI applications that can act autonomously or work alongside humans.',\n",
       " 'page_age': '2025-01-09T19:25:06',\n",
       " 'profile': {'name': 'GitHub',\n",
       "  'url': 'https://github.com/microsoft/autogen/',\n",
       "  'long_name': 'github.com',\n",
       "  'img': 'https://imgs.search.brave.com/xxsA4YxzaR0cl-DBsH9-lpv2gsif3KMYgM87p26bs_o/rs:fit:32:32:1:0/g:ce/aHR0cDovL2Zhdmlj/b25zLnNlYXJjaC5i/cmF2ZS5jb20vaWNv/bnMvYWQyNWM1NjA5/ZjZmZjNlYzI2MDNk/N2VkNmJhYjE2MzZl/MDY5ZTMxMDUzZmY1/NmU3NWIzNWVmMjk0/NTBjMjJjZi9naXRo/dWIuY29tLw'},\n",
       " 'language': 'en',\n",
       " 'family_friendly': True,\n",
       " 'type': 'search_result',\n",
       " 'subtype': 'software',\n",
       " 'is_live': False,\n",
       " 'meta_url': {'scheme': 'https',\n",
       "  'netloc': 'github.com',\n",
       "  'hostname': 'github.com',\n",
       "  'favicon': 'https://imgs.search.brave.com/xxsA4YxzaR0cl-DBsH9-lpv2gsif3KMYgM87p26bs_o/rs:fit:32:32:1:0/g:ce/aHR0cDovL2Zhdmlj/b25zLnNlYXJjaC5i/cmF2ZS5jb20vaWNv/bnMvYWQyNWM1NjA5/ZjZmZjNlYzI2MDNk/N2VkNmJhYjE2MzZl/MDY5ZTMxMDUzZmY1/NmU3NWIzNWVmMjk0/NTBjMjJjZi9naXRo/dWIuY29tLw',\n",
       "  'path': '› microsoft  › autogen'},\n",
       " 'thumbnail': {'src': 'https://imgs.search.brave.com/dEA5ArtxxqccK4Yfu_ALME12gCdbMDgKBEEHl5YZEzk/rs:fit:200:200:1:0/g:ce/aHR0cHM6Ly9vcGVu/Z3JhcGguZ2l0aHVi/YXNzZXRzLmNvbS9i/ZWU5Yzc2ZjUzY2Mx/NGZmZDkxZWE3ZjQ5/Y2JmZjlkODA1Y2Jk/YjU0ZjY2NWFjYmY5/ZGU3ZGQ0MmQ4OThk/NjJiL21pY3Jvc29m/dC9hdXRvZ2Vu',\n",
       "  'original': 'https://opengraph.githubassets.com/bee9c76f53cc14ffd91ea7f49cbff9d805cbdb54f665acbf9de7dd42d898d62b/microsoft/autogen',\n",
       "  'logo': False},\n",
       " 'age': 'January 9, 2025'}"
      ]
     },
     "execution_count": 71,
     "metadata": {},
     "output_type": "execute_result"
    }
   ],
   "source": [
    "result['web']['results'][0]"
   ]
  },
  {
   "cell_type": "code",
   "execution_count": 47,
   "metadata": {},
   "outputs": [],
   "source": [
    "result1 = await news_search(\"latest news on bitcoin\")"
   ]
  },
  {
   "cell_type": "code",
   "execution_count": 68,
   "metadata": {},
   "outputs": [
    {
     "data": {
      "text/plain": [
       "{'news', 'videos', 'web'}"
      ]
     },
     "execution_count": 68,
     "metadata": {},
     "output_type": "execute_result"
    }
   ],
   "source": [
    "{i['type'] for i in result1['mixed']['main']}"
   ]
  },
  {
   "cell_type": "code",
   "execution_count": 64,
   "metadata": {},
   "outputs": [
    {
     "data": {
      "text/plain": [
       "{'title': 'Middle East crisis live: Israel claims Hamas killed Bibas children with their ‘bare hands’',\n",
       " 'url': 'https://www.theguardian.com/world/live/2025/feb/21/middle-east-crisis-live-updates-israel-idf-hostages-hamas',\n",
       " 'is_source_local': False,\n",
       " 'is_source_both': False,\n",
       " 'description': 'The entire world must know exactly how the Hamas terrorist organization operates. Ariel and Kfir were murdered, and then yesterday, their bodies were returned in a cynical and cruel ceremony in Gaza. Shiri Bibas, who was meant to be returned with her children to Israel as part of the agreement, ...',\n",
       " 'page_age': '4 hours ago',\n",
       " 'family_friendly': True,\n",
       " 'meta_url': {'scheme': 'https',\n",
       "  'netloc': 'theguardian.com',\n",
       "  'hostname': 'www.theguardian.com',\n",
       "  'favicon': 'https://imgs.search.brave.com/rC70n-17a9InstnH-PH4YuXbWwFkdbesPtRJKvIQAwQ/rs:fit:32:32:1:0/g:ce/aHR0cDovL2Zhdmlj/b25zLnNlYXJjaC5i/cmF2ZS5jb20vaWNv/bnMvNGRmYTNkMTZl/NmJhYTQwYmQ4NDRj/MzQ4NDZkNGQ0YTgy/ZWRlZDM4YWVkMzM4/NmM0Y2Y2NTgyMTQ5/NzQxOTExYy93d3cu/dGhlZ3VhcmRpYW4u/Y29tLw',\n",
       "  'path': '› world  › live  › 2025  › feb  › 21  › middle-east-crisis-live-updates-israel-idf-hostages-hamas'},\n",
       " 'source': 'https://www.theguardian.com/world/live/2025/feb/21/middle-east-crisis-live-updates-israel-idf-hostages-hamas',\n",
       " 'breaking': True,\n",
       " 'is_live': False,\n",
       " 'thumbnail': {'src': 'https://imgs.search.brave.com/bXBUO8pBWdhdLBy9S-Mykbt4CDNawBxp6-G2zNewMao/rs:fit:200:200:1:0/g:ce/aHR0cHM6Ly9pbWdz/LnNlYXJjaC5icmF2/ZS5jb20vRm1qX215/a21la1Flczh1cERV/MG13VjVfY3dJaWM5/MFF5bHMwdUFyaG5E/Zy9yczpmaXQ6NjI4/OjQwMDoxOjAvZzpj/ZS9hSFIwY0hNNkx5/OXBMbWQxL2FXMHVZ/Mjh1ZFdzdmFXMW4v/TDIxbFpHbGhMekl6/TUdJeS9ZV1l4TkdJ/MlpUVTRObVJtL1pX/TTROVGt4TVRKbU9H/WXcvTmpNMk4yWTVa/V1E0Tmprdi9NalF4/TlY4eE1UazVYek14/L09UQmZNVGt4TkM5/dFlYTjAvWlhJdk16/RTVNQzVxY0djXy9k/MmxrZEdnOU5EWXdK/bkYxL1lXeHBkSGs5/T0RVbVlYVjAvYnox/bWIzSnRZWFFtWm1s/MC9QVzFoZUNaelBX/STJNVGt3L09XRTRZ/bUUyTXpneVpEVTUv/TVRBMFlUZGtOemt4/WWpReC9NRE5r',\n",
       "  'original': 'https://imgs.search.brave.com/Fmj_mykmekQes8upDU0mwV5_cwIic90Qyls0uArhnDg/rs:fit:628:400:1:0/g:ce/aHR0cHM6Ly9pLmd1/aW0uY28udWsvaW1n/L21lZGlhLzIzMGIy/YWYxNGI2ZTU4NmRm/ZWM4NTkxMTJmOGYw/NjM2N2Y5ZWQ4Njkv/MjQxNV8xMTk5XzMx/OTBfMTkxNC9tYXN0/ZXIvMzE5MC5qcGc_/d2lkdGg9NDYwJnF1/YWxpdHk9ODUmYXV0/bz1mb3JtYXQmZml0/PW1heCZzPWI2MTkw/OWE4YmE2MzgyZDU5/MTA0YTdkNzkxYjQx/MDNk'},\n",
       " 'age': '',\n",
       " 'extra_snippets': ['The entire world must know exactly how the Hamas terrorist organization operates. Ariel and Kfir were murdered, and then yesterday, their bodies were returned in a cynical and cruel ceremony in Gaza. Shiri Bibas, who was meant to be returned with her children to Israel as part of the agreement, was not returned by Hamas.',\n",
       "  'Hamas turned over four bodies yesterday as part of the ceasefire deal. They were supposed to have been those of Shiri Bibas, her sons, Kfir and Ariel, and Oded Lifshitz, who was 83 when he was abducted during the October 7 2023 attack by Hamas that ignited the war.',\n",
       "  'Posters showing Shiri Bibas and her two children, Kfir and Ariel.',\n",
       "  'Hamas insist that the Bibas boys and their mother, Shiri, were killed by an Israeli airstrike.']}"
      ]
     },
     "execution_count": 64,
     "metadata": {},
     "output_type": "execute_result"
    }
   ],
   "source": [
    "result1['news']['results'][0]"
   ]
  },
  {
   "cell_type": "code",
   "execution_count": 65,
   "metadata": {},
   "outputs": [
    {
     "data": {
      "text/plain": [
       "{'title': 'Bitcoin price today, BTC to USD live price, marketcap and chart | CoinMarketCap',\n",
       " 'url': 'https://coinmarketcap.com/currencies/bitcoin/',\n",
       " 'is_source_local': False,\n",
       " 'is_source_both': False,\n",
       " 'description': '<strong>The live Bitcoin price today is $98,526.87 USD</strong> with a 24-hour trading volume of $39,046,242,986.98 USD. We update our BTC to USD price in real-time.',\n",
       " 'profile': {'name': 'CoinMarketCap',\n",
       "  'url': 'https://coinmarketcap.com/currencies/bitcoin/',\n",
       "  'long_name': 'coinmarketcap.com',\n",
       "  'img': 'https://imgs.search.brave.com/R8sbEhMu9i27Sror8MoTdAK9XBLPZQF7r38sH6SBPDM/rs:fit:32:32:1:0/g:ce/aHR0cDovL2Zhdmlj/b25zLnNlYXJjaC5i/cmF2ZS5jb20vaWNv/bnMvMjYyZDFhNzE2/NTU3YWZiYzUzMjhj/ZTIyYzlmYzI5NmYz/MmU5Yjc4OTRmZjg0/MmVkM2NmYjlmYTEz/M2E0ZjEyOC9jb2lu/bWFya2V0Y2FwLmNv/bS8'},\n",
       " 'language': 'en',\n",
       " 'family_friendly': True,\n",
       " 'type': 'search_result',\n",
       " 'subtype': 'faq',\n",
       " 'is_live': False,\n",
       " 'meta_url': {'scheme': 'https',\n",
       "  'netloc': 'coinmarketcap.com',\n",
       "  'hostname': 'coinmarketcap.com',\n",
       "  'favicon': 'https://imgs.search.brave.com/R8sbEhMu9i27Sror8MoTdAK9XBLPZQF7r38sH6SBPDM/rs:fit:32:32:1:0/g:ce/aHR0cDovL2Zhdmlj/b25zLnNlYXJjaC5i/cmF2ZS5jb20vaWNv/bnMvMjYyZDFhNzE2/NTU3YWZiYzUzMjhj/ZTIyYzlmYzI5NmYz/MmU5Yjc4OTRmZjg0/MmVkM2NmYjlmYTEz/M2E0ZjEyOC9jb2lu/bWFya2V0Y2FwLmNv/bS8',\n",
       "  'path': '  › cryptocurrency  › bitcoin'},\n",
       " 'thumbnail': {'src': 'https://imgs.search.brave.com/gpBAtPBfRAWLCnNh83LsMcS8oCIkkTHezKOXHgPCbtU/rs:fit:200:200:1:0/g:ce/aHR0cHM6Ly9zMi5j/b2lubWFya2V0Y2Fw/LmNvbS9zdGF0aWMv/Y2xvdWQvaW1nL3Nw/bGFzaF82MDB4MzE1/XzEucG5nP189OTdh/YzBkNw',\n",
       "  'original': 'https://s2.coinmarketcap.com/static/cloud/img/splash_600x315_1.png?_=97ac0d7',\n",
       "  'logo': False}}"
      ]
     },
     "execution_count": 65,
     "metadata": {},
     "output_type": "execute_result"
    }
   ],
   "source": [
    "result1['web']['results'][0]"
   ]
  },
  {
   "cell_type": "code",
   "execution_count": 85,
   "metadata": {},
   "outputs": [
    {
     "data": {
      "text/plain": [
       "{'news', 'videos', 'web'}"
      ]
     },
     "execution_count": 85,
     "metadata": {},
     "output_type": "execute_result"
    }
   ],
   "source": [
    "{i['type'] for i in result1['mixed']['main']}"
   ]
  },
  {
   "cell_type": "code",
   "execution_count": 32,
   "metadata": {},
   "outputs": [
    {
     "data": {
      "text/plain": [
       "dict_keys(['query', 'mixed', 'news', 'type', 'videos', 'web'])"
      ]
     },
     "execution_count": 32,
     "metadata": {},
     "output_type": "execute_result"
    }
   ],
   "source": [
    "result1.keys()"
   ]
  },
  {
   "cell_type": "code",
   "execution_count": 34,
   "metadata": {},
   "outputs": [
    {
     "data": {
      "text/plain": [
       "{'type': 'mixed',\n",
       " 'main': [{'type': 'news', 'all': True},\n",
       "  {'type': 'web', 'index': 0, 'all': False},\n",
       "  {'type': 'videos', 'all': True},\n",
       "  {'type': 'web', 'index': 1, 'all': False},\n",
       "  {'type': 'web', 'index': 2, 'all': False},\n",
       "  {'type': 'web', 'index': 3, 'all': False},\n",
       "  {'type': 'web', 'index': 4, 'all': False},\n",
       "  {'type': 'web', 'index': 5, 'all': False},\n",
       "  {'type': 'web', 'index': 6, 'all': False},\n",
       "  {'type': 'web', 'index': 7, 'all': False},\n",
       "  {'type': 'web', 'index': 8, 'all': False},\n",
       "  {'type': 'web', 'index': 9, 'all': False},\n",
       "  {'type': 'web', 'index': 10, 'all': False},\n",
       "  {'type': 'web', 'index': 11, 'all': False},\n",
       "  {'type': 'web', 'index': 12, 'all': False},\n",
       "  {'type': 'web', 'index': 13, 'all': False},\n",
       "  {'type': 'web', 'index': 14, 'all': False},\n",
       "  {'type': 'web', 'index': 15, 'all': False},\n",
       "  {'type': 'web', 'index': 16, 'all': False},\n",
       "  {'type': 'web', 'index': 17, 'all': False},\n",
       "  {'type': 'web', 'index': 18, 'all': False},\n",
       "  {'type': 'web', 'index': 19, 'all': False}],\n",
       " 'top': [],\n",
       " 'side': []}"
      ]
     },
     "execution_count": 34,
     "metadata": {},
     "output_type": "execute_result"
    }
   ],
   "source": [
    "result1['mixed']"
   ]
  },
  {
   "cell_type": "code",
   "execution_count": 36,
   "metadata": {},
   "outputs": [
    {
     "data": {
      "text/plain": [
       "'search'"
      ]
     },
     "execution_count": 36,
     "metadata": {},
     "output_type": "execute_result"
    }
   ],
   "source": [
    "result1['type']"
   ]
  },
  {
   "cell_type": "code",
   "execution_count": 37,
   "metadata": {},
   "outputs": [
    {
     "ename": "KeyError",
     "evalue": "'news'",
     "output_type": "error",
     "traceback": [
      "\u001b[0;31m---------------------------------------------------------------------------\u001b[0m",
      "\u001b[0;31mKeyError\u001b[0m                                  Traceback (most recent call last)",
      "Cell \u001b[0;32mIn[37], line 1\u001b[0m\n\u001b[0;32m----> 1\u001b[0m \u001b[43mresult\u001b[49m\u001b[43m[\u001b[49m\u001b[38;5;124;43m'\u001b[39;49m\u001b[38;5;124;43mnews\u001b[39;49m\u001b[38;5;124;43m'\u001b[39;49m\u001b[43m]\u001b[49m\u001b[38;5;241m.\u001b[39mkeys()\n",
      "\u001b[0;31mKeyError\u001b[0m: 'news'"
     ]
    }
   ],
   "source": [
    "result['news'].keys()"
   ]
  },
  {
   "cell_type": "code",
   "execution_count": 16,
   "metadata": {},
   "outputs": [
    {
     "data": {
      "text/plain": [
       "dict"
      ]
     },
     "execution_count": 16,
     "metadata": {},
     "output_type": "execute_result"
    }
   ],
   "source": [
    "type(result['news'])"
   ]
  },
  {
   "cell_type": "code",
   "execution_count": 21,
   "metadata": {},
   "outputs": [
    {
     "data": {
      "text/plain": [
       "{'title': 'Archaeologists Find a Pharaoh’s Tomb, the First Since King Tut, Egypt Says',\n",
       " 'url': 'https://www.nytimes.com/2025/02/21/world/middleeast/egypt-tomb-archaeologists.html',\n",
       " 'is_source_local': False,\n",
       " 'is_source_both': False,\n",
       " 'description': 'Archaeologists have found a pharaoh’s tomb in an Egyptian valley west of Luxor, Egypt’s ministry of antiquities announced this week, in what officials called the first excavation of a royal tomb since Tutankhamen’s burial chamber was unearthed over a century ago.',\n",
       " 'page_age': '4 hours ago',\n",
       " 'family_friendly': True,\n",
       " 'meta_url': {'scheme': 'https',\n",
       "  'netloc': 'nytimes.com',\n",
       "  'hostname': 'www.nytimes.com',\n",
       "  'favicon': 'https://imgs.search.brave.com/lWA-zkTMlWM2cUvrcYa1Fls86e-Vl-rkSBOjichQqVs/rs:fit:32:32:1:0/g:ce/aHR0cDovL2Zhdmlj/b25zLnNlYXJjaC5i/cmF2ZS5jb20vaWNv/bnMvMGFlZWRkYmVh/YWFhZmFjYjM4MWYy/NTQzZmExMTIwN2Nm/NGJmZjgwYTRhYjI5/OTliM2JkYmI2MWY0/M2RlOGFlMi93d3cu/bnl0aW1lcy5jb20v',\n",
       "  'path': '› 2025  › 02  › 21  › world  › middleeast  › egypt-tomb-archaeologists.html'},\n",
       " 'source': 'https://www.nytimes.com/2025/02/21/world/middleeast/egypt-tomb-archaeologists.html',\n",
       " 'breaking': True,\n",
       " 'is_live': False,\n",
       " 'thumbnail': {'src': 'https://imgs.search.brave.com/u2KnCcWDXYqQ-WEQnvcrSF27EwlbUiHLXONnnr8HYXY/rs:fit:200:200:1:0/g:ce/aHR0cHM6Ly9pbWdz/LnNlYXJjaC5icmF2/ZS5jb20vMG5vdFRq/MTFrTnpsbTIzUDZX/bTNZdHZQczNkNzI1/TnJVY1ZYYTJLRE5N/SS9yczpmaXQ6NjI4/OjQwMDoxOjAvZzpj/ZS9hSFIwY0hNNkx5/OXpkR0YwL2FXTXdN/UzV1ZVhRdVkyOXQv/TDJsdFlXZGxjeTh5/TURJMS9MekF5THpJ/eEwyMTFiSFJwL2JX/VmthV0V2TWpGd2FH/RnkvWVc5b0xYUnZi/V0l0Y0dobi9iQzh5/TVhCb1lYSmhiMmd0/L2RHOXRZaTF3YUdk/c0xXMWwvWkdsMWJW/TnhkV0Z5WlVGMC9N/MWd1YW5Cbg',\n",
       "  'original': 'https://imgs.search.brave.com/0notTj11kNzlm23P6Wm3YtvPs3d725NrUcVXa2KDNMI/rs:fit:628:400:1:0/g:ce/aHR0cHM6Ly9zdGF0/aWMwMS5ueXQuY29t/L2ltYWdlcy8yMDI1/LzAyLzIxL211bHRp/bWVkaWEvMjFwaGFy/YW9oLXRvbWItcGhn/bC8yMXBoYXJhb2gt/dG9tYi1waGdsLW1l/ZGl1bVNxdWFyZUF0/M1guanBn'},\n",
       " 'age': '',\n",
       " 'extra_snippets': ['Despite the ministry’s assertion that this was the first such discovery since 1922, archaeologists have reported finding pharaohs’ tombs in other parts of Egypt in the decades since, including in 1940 in Tanis and 2014 in Abydos.',\n",
       "  'The newly identified tomb belonged to Thutmose II, who is believed to have reigned around 1480 B.C. It was “the last missing royal tomb of the 18th Dynasty,” the Egyptian ministry said in a statement.',\n",
       "  'The excavation was a joint project by Egyptian and British researchers that began in 2022, when the entrance and main corridor of the tomb were found.',\n",
       "  '“I think what they mean is the first royal tomb in the area of the Valley of the Kings or of 18th dynasty,” said Josef Wegner, a professor of Egyptian archaeology at the University of Pennsylvania, and a leader of the 2014 excavation.']}"
      ]
     },
     "execution_count": 21,
     "metadata": {},
     "output_type": "execute_result"
    }
   ],
   "source": [
    "result['news']['results'][1]"
   ]
  },
  {
   "cell_type": "markdown",
   "metadata": {},
   "source": [
    "# Parse web search result"
   ]
  },
  {
   "cell_type": "code",
   "execution_count": 88,
   "metadata": {},
   "outputs": [],
   "source": [
    "def parse_web_search_result(result):\n",
    "    search_result_type = {i['type'] for i in result['mixed']['main']}\n",
    "    web_result = []\n",
    "    news_result = []\n",
    "    if 'web' in search_result_type:\n",
    "        for i in result['web']['results']:\n",
    "            web_result.append({\n",
    "                'title': i['title'],\n",
    "                'url': i['url'],\n",
    "                'description': i['description'],\n",
    "            })\n",
    "    if 'news' in search_result_type:\n",
    "        for i in result['news']['results']:\n",
    "            news_result.append({\n",
    "                'title': i['title'],\n",
    "                'url': i['url'],\n",
    "                'description': i['description'],\n",
    "                #'snippet': i['extra_snippets'] \n",
    "            })\n",
    "    return (web_result, news_result)"
   ]
  },
  {
   "cell_type": "code",
   "execution_count": 73,
   "metadata": {},
   "outputs": [],
   "source": [
    "result3 = await news_search(\"latest news on soccer\")"
   ]
  },
  {
   "cell_type": "code",
   "execution_count": 89,
   "metadata": {},
   "outputs": [],
   "source": [
    "parse_result1,parse_result2 = parse_web_search_result(result3)"
   ]
  },
  {
   "cell_type": "code",
   "execution_count": 90,
   "metadata": {},
   "outputs": [
    {
     "data": {
      "text/plain": [
       "[{'title': 'Soccer on ESPN - Scores, Stats and Highlights',\n",
       "  'url': 'https://www.espn.com/soccer/',\n",
       "  'description': 'Visit ESPN for <strong>soccer</strong> live scores, highlights and <strong>news</strong> from all major <strong>soccer</strong> leagues. Stream games on ESPN and play Fantasy <strong>Soccer</strong>.'},\n",
       " {'title': 'Reuters Soccer News | Latest Soccer Headlines and Results | Reuters',\n",
       "  'url': 'https://www.reuters.com/sports/soccer/',\n",
       "  'description': 'Find <strong>latest</strong> <strong>soccer</strong> <strong>news</strong> from every corner of the globe at Reuters.com, your online source for breaking international <strong>news</strong> coverage.'},\n",
       " {'title': 'Soccer | Latest News, Matchups, Scores, & More | AP News',\n",
       "  'url': 'https://apnews.com/hub/soccer',\n",
       "  'description': 'AP <strong>News</strong> has the <strong>latest</strong> <strong>Soccer</strong> <strong>news</strong> and updates. Keep up with the <strong>latest</strong> player <strong>news</strong>, matchups, and more.'},\n",
       " {'title': 'FIFA - Soccer News, Scores, Stats, Standings, and Rumors - CBSSports.com',\n",
       "  'url': 'https://www.cbssports.com/soccer/',\n",
       "  'description': 'CBS Sports has the <strong>latest</strong> <strong>Soccer</strong> <strong>news</strong>, live scores, player stats, standings, fantasy games, and projections.'},\n",
       " {'title': 'Soccer News, Live Scores, Results & Transfers | Goal.com US',\n",
       "  'url': 'https://www.goal.com/en-us',\n",
       "  'description': 'The <strong>latest</strong> <strong>soccer</strong> <strong>news</strong>, live scores, results, rumors, transfers, fixtures, tables and player profiles from around the world, including Major League <strong>Soccer</strong>.'},\n",
       " {'title': 'Football news, match reports and fixtures | The Guardian',\n",
       "  'url': 'https://www.theguardian.com/football',\n",
       "  'description': 'Football <strong>news</strong>, results, fixtures, blogs, podcasts and comment on the Premier League, European and World football from the Guardian, the world&#x27;s leading liberal voice'},\n",
       " {'title': 'Football - latest news today, results & video highlights - BBC Sport',\n",
       "  'url': 'https://www.bbc.com/sport/football',\n",
       "  'description': 'Football <strong>news</strong>, scores, results, fixtures and videos from the Premier League, Championship, European and World Football from the BBC.'},\n",
       " {'title': 'Latest Soccer News Headlines - Soccer News',\n",
       "  'url': 'https://www.soccernews.com/headlines/',\n",
       "  'description': 'Claim up to &amp;pound/&amp;euro;50 free sports match bet. Enter promo code: F50. New customers only · Get 100% matched amount as a bonus, up to a maximum of &amp;pound200. New customers only'},\n",
       " {'title': 'Football & Soccer| Latest Football News and Results | Daily Mail Online',\n",
       "  'url': 'https://www.dailymail.co.uk/sport/football/index.html',\n",
       "  'description': 'Read about football <strong>news</strong> including transfers, results and headlines. Sign up for MailOnline newsletters to get breaking <strong>news</strong> delivered to your inbox.'},\n",
       " {'title': 'Soccer News | Latest News - NewsNow',\n",
       "  'url': 'https://www.newsnow.com/us/Sports/Soccer',\n",
       "  'description': 'Another Chelsea player on West Ham radar after Chukwuemeka - report West Ham Zone 18:13 · Barcelona defensive duo reach a major milestone with the first team Barca <strong>News</strong> Network 18:13 ... <strong>Latest</strong> in US <strong>Soccer</strong> and beyond: Your source for breaking <strong>news</strong>, match results, expert analysis, and passionate ...'},\n",
       " {'title': 'Football | CNN',\n",
       "  'url': 'https://www.cnn.com/sport/football',\n",
       "  'description': '<strong>Latest</strong> football <strong>news</strong> from around the world, with features and interviews with the biggest stars of the English Premier League, Spanish La Liga, German Bundesliga and Italian Serie A.'},\n",
       " {'title': 'Soccer: Breaking News, Rumors & Highlights | Yardbarker',\n",
       "  'url': 'https://www.yardbarker.com/soccer',\n",
       "  'description': '<strong>Soccer</strong> rumors, <strong>news</strong> and videos from the best sources on the web. Sign up for the <strong>Soccer</strong> newsletter!'},\n",
       " {'title': 'Soccer | Latest Football News, Results & Fixtures | RTÉ Sport',\n",
       "  'url': 'https://www.rte.ie/sport/soccer/',\n",
       "  'description': 'Get the <strong>latest</strong> <strong>soccer</strong> results, scorers, fixtures, tables, transfers, <strong>news</strong> and opinion from domestic football leagues to international tournaments on RTE.ie'},\n",
       " {'title': 'Soccer: News, Videos, Stats, Highlights, Results & More - NBC Sports',\n",
       "  'url': 'https://www.nbcsports.com/soccer',\n",
       "  'description': 'Find all the <strong>latest</strong> <strong>soccer</strong> <strong>news</strong>, live coverage, videos, highlights, stats, predictions, and results right here on NBC Sports.'},\n",
       " {'title': 'Soccer Transfer News and Rumors - ESPN',\n",
       "  'url': 'https://www.espn.com/soccer/transfers-news-and-features/',\n",
       "  'description': 'Get the <strong>latest</strong> <strong>news</strong> from the <strong>soccer</strong> transfer market on ESPN. Be the first to discover the next signings of the clubs in the Premier League, MLS and La Liga.'},\n",
       " {'title': 'Soccer Stories and Articles | FOX Sports',\n",
       "  'url': 'https://www.foxsports.com/stories/soccer',\n",
       "  'description': 'Breaking <strong>Soccer</strong> articles and stories from FOX Sports. Visit FOXSports.com to explore the <strong>latest</strong> <strong>news</strong> <strong>on</strong> your favorite <strong>Soccer</strong> players and teams today.'},\n",
       " {'title': 'Soccer News | Sporting News',\n",
       "  'url': 'https://www.sportingnews.com/us/soccer/news',\n",
       "  'description': 'Get all the <strong>latest</strong> <strong>soccer</strong> <strong>news</strong>, including highlights, scores, schedules, standings and more from The Sporting <strong>News</strong>'},\n",
       " {'title': '2025 Soccer News, Rumors, Scores, Stats, Standings - Yahoo Sports',\n",
       "  'url': 'https://sports.yahoo.com/soccer/',\n",
       "  'description': 'This article was translated into English by Artificial Intelligence. You can read the original version in 🇧🇷 here.Tension remained at Allianz Parque.But the current three-time São Paulo champio · Inter Milan take on Genoa in Serie A this weekend.The Nerazzurri will be desperate to bounce ...'}]"
      ]
     },
     "execution_count": 90,
     "metadata": {},
     "output_type": "execute_result"
    }
   ],
   "source": [
    "parse_result1"
   ]
  },
  {
   "cell_type": "code",
   "execution_count": 91,
   "metadata": {},
   "outputs": [
    {
     "data": {
      "text/plain": [
       "[{'title': 'The story of how JJ Rawlings gave Black Stars players half-piece cloth for beating Nigeria',\n",
       "  'url': 'https://www.ghanaweb.com/GhanaHomePage/SportsArchive/The-story-of-how-JJ-Rawlings-gave-Black-Stars-players-half-piece-cloth-for-beating-Nigeria-1972413',\n",
       "  'description': 'Ghanaian football great, Philip Opoku Sampene, has recounted an interesting story of how the late former President Jerry John Rawlings gifted the players of the Black Stars a half-piece cloth for beating the Super Eagles (known then as Green Eagles)...'},\n",
       " {'title': 'Manchester City are ready to sanction sale of Jack Grealish and seven others in the summer transfer window - Paper Talk | Football News | Sky Sports',\n",
       "  'url': 'https://www.skysports.com/football/news/11661/13313637/manchester-city-are-ready-to-sanction-sale-of-jack-grealish-and-seven-others-in-the-summer-transfer-window-paper-talk',\n",
       "  'description': 'Plus: Ruben Amorim is handed another injury problem with Kobbie Mainoo now set to be sidelined until the end of March; Chelsea co-owner guarantees Enzo Maresca will be in the role next season; Arsenal agree six-figure deal to sign young prospect'},\n",
       " {'title': \"Luis Suarez sends message to Darwin Nunez as Arne Slot criticises Liverpool star's behaviour - Mirror Online\",\n",
       "  'url': 'https://www.mirror.co.uk/sport/football/news/liverpool-luis-suarez-nunez-slot-34720853',\n",
       "  'description': 'Darwin Nunez missed a howler as Liverpool drew with Aston Villa <strong>on</strong> Wednesday night with Arne Slot critical of his reaction before Luis Suarez jumped to his defence'},\n",
       " {'title': 'Major League Soccer Preview: 30 players to watch ahead of the 2025 season | Transfermarkt',\n",
       "  'url': 'https://www.transfermarkt.us/major-league-soccer-preview-30-players-to-watch-ahead-of-the-2025-season/view/news/450521',\n",
       "  'description': '<strong>On</strong> Saturday, Los Angeles FC and Minnesota United will kick off the 30th Major League <strong>Soccer</strong> season (10:30 a.m. ET). Expansion team San Diego FC becomes the 30th team to join the league. The Southern C [...]'},\n",
       " {'title': 'Everything you need for Gameweek 26 of FPL with the latest tips and advice',\n",
       "  'url': 'https://www.premierleague.com/news/4250893',\n",
       "  'description': 'The Scout and Fantasy experts provide everything you need to know ahead of Friday&#x27;s 18:30 GMT deadline'},\n",
       " {'title': \"Frigid conditions in Inter Miami CCC win 'not human' - Mascherano - ESPN\",\n",
       "  'url': 'https://www.espn.com/soccer/story/_/id/43928865/frigid-conditions-inter-miami-ccc-win-not-human-mascherano',\n",
       "  'description': 'Inter Miami CF coach Javier Mascherano called the freezing conditions &#x27;inhumane&#x27; after their 1-0 win over Sporting Kansas City in the Concacaf Champions Cup first leg.'}]"
      ]
     },
     "execution_count": 91,
     "metadata": {},
     "output_type": "execute_result"
    }
   ],
   "source": [
    "parse_result2 "
   ]
  }
 ],
 "metadata": {
  "kernelspec": {
   "display_name": "web_search_venv",
   "language": "python",
   "name": "python3"
  },
  "language_info": {
   "codemirror_mode": {
    "name": "ipython",
    "version": 3
   },
   "file_extension": ".py",
   "mimetype": "text/x-python",
   "name": "python",
   "nbconvert_exporter": "python",
   "pygments_lexer": "ipython3",
   "version": "3.13.1"
  }
 },
 "nbformat": 4,
 "nbformat_minor": 2
}
